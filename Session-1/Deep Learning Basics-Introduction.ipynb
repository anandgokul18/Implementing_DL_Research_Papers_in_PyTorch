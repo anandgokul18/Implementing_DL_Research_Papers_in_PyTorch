{
 "cells": [
  {
   "cell_type": "markdown",
   "metadata": {},
   "source": [
    "# Imports"
   ]
  },
  {
   "cell_type": "code",
   "execution_count": 7,
   "metadata": {
    "ExecuteTime": {
     "end_time": "2019-01-15T12:59:58.653160Z",
     "start_time": "2019-01-15T12:59:58.649188Z"
    }
   },
   "outputs": [],
   "source": [
    "from IPython.display import Image"
   ]
  },
  {
   "cell_type": "markdown",
   "metadata": {},
   "source": [
    "# Deep Learning \n",
    "\n",
    "**Deep Learning is a subfield of machine learning concerned with algorithms inspired by the structure and function of the brain called artificial neural networks.**\n",
    "<br>\n",
    "<br>\n",
    "![](http://joapen.com/blog/wp-content/uploads/2018/02/DL-ML-AI.jpg)"
   ]
  },
  {
   "cell_type": "code",
   "execution_count": 8,
   "metadata": {
    "ExecuteTime": {
     "end_time": "2019-01-15T13:00:40.998078Z",
     "start_time": "2019-01-15T13:00:40.991098Z"
    }
   },
   "outputs": [
    {
     "data": {
      "image/jpeg": "[encoded data removed]",
      "text/plain": [
       "<IPython.core.display.Image object>"
      ]
     },
     "execution_count": 8,
     "metadata": {
      "image/jpeg": {
       "height": 100,
       "width": 800
      }
     },
     "output_type": "execute_result"
    }
   ],
   "source": [
    "Image(\"images/intro_deeplearning.jpg\",width=800,height=100)"
   ]
  },
  {
   "cell_type": "markdown",
   "metadata": {},
   "source": [
    "# Neural Networks\n",
    "What is a neural network? To get started,We will go through an artificial neuron called a **Perceptron.** \n",
    "\n",
    "![](images/neuron.PNG)"
   ]
  },
  {
   "cell_type": "markdown",
   "metadata": {},
   "source": [
    "##  Perceptrons\n",
    "\n",
    "Perceptrons are a type of artificial neuron which were developed in the 1950s and 1960s by the scientist Frank Rosenblatt, inspired by earlier work by Warren McCulloch and Walter Pitts\n",
    "\n",
    "**So how do perceptrons work?**\n",
    "<br>\n",
    "A perceptron takes several binary inputs, $x_1,x_2,…,$ and produces a single binary output:\n",
    "<br>\n",
    "Let us take an example:\n",
    "<br>\n",
    "![](images/perceptron.PNG)\n",
    "<br>\n",
    "In the example shown the perceptron has three inputs,$ x_1,x_2,x_3$. In general it could have more or fewer inputs.\n",
    "<br>\n",
    "<br>\n",
    "**Rule to compute the output**\n",
    "<br>\n",
    "We introduce weights, $w_1,w_2,…,$ real numbers expressing the importance of the respective inputs to the output. The neuron's output, 0 or 1, is determined by whether the weighted sum $∑_jw_j x_j$ is less than or greater than some threshold value. Just like the weights, the threshold is a real number which is a parameter of the neuron. To put it in more precise algebraic terms:\n",
    "![](images/perceptron_th.PNG)\n",
    "![](images/step_function.PNG)\n",
    "\n",
    "So by varying the weights and the threshold, we can get different models of ***decision-making.***\n",
    "Obviously, the perceptron isn't a complete model of human decision-making! But what the example illustrates is how a perceptron can weigh up different kinds of evidence in order to make decisions. And it should seem plausible that a complex network of perceptrons could make quite subtle decisions:\n",
    "![](images/neural_network.PNG)\n",
    "\n",
    "**Let us introduce the term Bias in the network(b)**\n",
    "<br>\n",
    "The condition $\\sum_jw_jx_j>threshold$ is cumbersome, and we can make a change to simplify it.Move the ***threshold*** to the other side of the inequality, and to replace it by what's known as the ***perceptron's bias, b≡−threshold***. Using the bias instead of the threshold, the perceptron rule can be rewritten:\n",
    "<br>\n",
    "![](images/perceptron_bias.PNG)\n",
    "\n",
    "**Intuition on adding a bias**\n",
    "<br>\n",
    "We can think of the bias as a measure of how easy it is to get the perceptron to output a 1. Or to put it in more biological terms, the bias is a measure of how easy it is to get the perceptron to fire. For a perceptron with a really big bias, it's extremely easy for the perceptron to output a 1. But if the bias is very negative, then it's difficult for the perceptron to output a 1.\n",
    "\n",
    "**Learning Algorithm**\n",
    "![](images/nn_output.PNG)\n",
    "\n",
    "\n",
    "***To make this network learn, then we may need to  modify the weights and biases to get our network to behave more in the manner we want.***\n",
    "<br>\n",
    "<br>\n",
    "**However with perceptron**,a small change in the weights or bias of any single perceptron in the network can sometimes cause the output of that perceptron to completely flip, say from 0 to 1.That flip may then cause the behaviour of the rest of the network to completely change in some very complicated way\n"
   ]
  },
  {
   "cell_type": "markdown",
   "metadata": {},
   "source": [
    "# Sigmoid Neurons\n",
    "Sigmoid neurons are similar to perceptrons, but modified so that small changes in their weights and bias cause only a small change in their output. That's the crucial fact which will allow a network of sigmoid neurons to learn.\n",
    "![image.png](images/sigmoid.PNG)\n",
    "Just like a perceptron, the sigmoid neuron has inputs,$ x_1,x_2,….$ But instead of being just 0 or 1, these inputs can also take on any values between 0 and 1. So, for instance, 0.638… is a valid input for a sigmoid neuron. Also just like a perceptron, the sigmoid neuron has weights for each input, $w_1,w_2,…,$ and an overall bias, b. But the output is not 0 or 1. Instead, it's $\\sigma(w.x+b)$, where σ is called the sigmoid function Incidentally, σ is sometimes called the logistic function, and this new class of neurons called logistic neurons. It's useful to remember this terminology, since these terms are used by many people working with neural nets. However, we'll stick with the sigmoid terminology., and is defined by:\n",
    "![](images/sigmoid_eq.PNG)\n",
    "<br>\n",
    "To put it all a little more explicitly, the output of a sigmoid neuron with inputs $x_1,x_2,…,$ weights $w_1,w_2,…,$ and bias b is:\n",
    "![](images/sigmoid_eq1.PNG)\n",
    "**Output**\n",
    "![](images/sigmoid_plot.PNG)\n",
    "***If $\\sigma$ had in fact been a step function, then the sigmoid neuron would be a perceptron***"
   ]
  },
  {
   "cell_type": "markdown",
   "metadata": {},
   "source": [
    "# Multilayer Perceptron \n",
    "\n",
    "We call it Multilayer perceptron even though we use a sigmoid neuron\n",
    "![](images/mlp.PNG)\n",
    "<br>\n",
    "The **leftmost layer** in this network is called the **input layer**, and the neurons within the layer are called **input neurons**. The **rightmost or output layer** contains the **output neurons**, or, as in this case, a single output neuron. The **middle layer** is called a **hidden layer**, since the neurons in this layer are neither inputs nor outputs"
   ]
  },
  {
   "cell_type": "markdown",
   "metadata": {},
   "source": [
    "# Universality theorem\n",
    "One of the most striking facts about neural networks is that they can compute any function at all.\n",
    "No matter what the function, there is guaranteed to be a neural network so that for every possible input,$ x$, the value $f(x)$ (or some close approximation) is output from the network.This result tells us that neural networks have a kind of universality. No matter what function we want to compute, we know that there is a neural network which can do the job."
   ]
  },
  {
   "cell_type": "markdown",
   "metadata": {},
   "source": [
    "# Additional Resouces\n",
    "[Interesting Videos to understand Neural Networks](https://www.youtube.com/watch?v=aircAruvnKk&list=PLZHQObOWTQDNU6R1_67000Dx_ZCJB-3pi)\n",
    "<br>\n",
    "[Neural Networks and Deep Learning](http://neuralnetworksanddeeplearning.com/index.html)\n",
    "<br>\n",
    "[Universal Approximator](http://neuralnetworksanddeeplearning.com/chap4.html)"
   ]
  }
 ],
 "metadata": {
  "kernelspec": {
   "display_name": "Python 3",
   "language": "python",
   "name": "python3"
  },
  "language_info": {
   "codemirror_mode": {
    "name": "ipython",
    "version": 3
   },
   "file_extension": ".py",
   "mimetype": "text/x-python",
   "name": "python",
   "nbconvert_exporter": "python",
   "pygments_lexer": "ipython3",
   "version": "3.6.5"
  },
  "toc": {
   "base_numbering": 1,
   "nav_menu": {},
   "number_sections": true,
   "sideBar": true,
   "skip_h1_title": false,
   "title_cell": "Table of Contents",
   "title_sidebar": "Contents",
   "toc_cell": false,
   "toc_position": {},
   "toc_section_display": true,
   "toc_window_display": true
  }
 },
 "nbformat": 4,
 "nbformat_minor": 2
}
