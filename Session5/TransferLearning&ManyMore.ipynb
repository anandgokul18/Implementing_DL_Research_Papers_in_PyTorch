{
 "cells": [
  {
   "cell_type": "markdown",
   "metadata": {
    "colab_type": "text",
    "id": "view-in-github"
   },
   "source": [
    "<a href=\"https://colab.research.google.com/github/aman5319/Meetup2019/blob/master/Session4/TransferLearning%26ManyMore.ipynb\" target=\"_parent\"><img src=\"https://colab.research.google.com/assets/colab-badge.svg\" alt=\"Open In Colab\"/></a>"
   ]
  },
  {
   "cell_type": "markdown",
   "metadata": {
    "colab_type": "text",
    "id": "R8GXHu7kzMjQ"
   },
   "source": [
    "#  **Creating your own Dataset from Google Images**\n",
    "   Inspired By Fastai  Library"
   ]
  },
  {
   "cell_type": "markdown",
   "metadata": {
    "colab_type": "text",
    "id": "SGTjMttsz_kJ"
   },
   "source": [
    "### In this tutorial we will see how to easily create an image dataset through Google Images and load them in keras\n",
    "\n",
    "Note The code has been taken from fastai library and tailored for keras\n"
   ]
  },
  {
   "cell_type": "markdown",
   "metadata": {
    "colab_type": "text",
    "id": "oYK7nOt50VeA"
   },
   "source": [
    "\n",
    "## Get a list of URLs\n",
    "## Search and scroll\n",
    "\n",
    "Go to [Google Images](https://images.google.com/) and search for the images you are interested in. The more specific you are in your Google Search, the better the results and the less manual pruning you will have to do.\n",
    "\n",
    "Scroll down until you see a button that says **Show more results** . All the images you scrolled past are now available to download. To get more, click on the button. Then continue scrolling until you cannot scroll anymore. The maximum number of images Google Images shows is 700.\n",
    "\n",
    "## Download into file\n",
    "\n",
    "Now you must run some Javascript code in your browser which will save the URLs of all the images you want for you dataset.\n",
    "\n",
    "Press Ctrl+Shift+J in Windows/Linux and Cmd+Opt+J in Mac for Chrome and Ctrl+Shift+K in Firefox, a small window the javascript 'Console' will appear. That is where you will paste the JavaScript commands.\n",
    "\n",
    "You will need to get the urls of each of the images. You can do this by running the following commands:\n",
    "\n",
    "\n",
    "\n",
    "```javascript\n",
    "urls = Array.from(document.querySelectorAll('.rg_di .rg_meta')).map(el=>JSON.parse(el.textContent).ou);\n",
    "window.open('data:text/csv;charset=utf-8,' + escape(urls.join('\\n')));\n",
    "```\n",
    "\n",
    "\n"
   ]
  },
  {
   "cell_type": "markdown",
   "metadata": {
    "colab_type": "text",
    "id": "ds3IdHKa2lgk"
   },
   "source": [
    "## In this tutorial, we are working on birds datasets.\n",
    "\n",
    "Here we have images of 10 different birds species found in India.\n",
    "So the steps are as following\n",
    "1. Make 10 CSV files of all the different birds in your local system by following above steps\n",
    "2. Zip it and upload it to Google colab\n",
    "3. Unzip it, download all the Images in their specific folder\n",
    "4. Verify all the Images \n",
    "5. Use It and Enjoy"
   ]
  },
  {
   "cell_type": "code",
   "execution_count": 0,
   "metadata": {
    "colab": {
     "base_uri": "https://localhost:8080/",
     "height": 610
    },
    "colab_type": "code",
    "id": "wQ6WjY-4GAt7",
    "outputId": "86f877c8-ee06-4e66-cf23-d62305069c2f"
   },
   "outputs": [
    {
     "name": "stdout",
     "output_type": "stream",
     "text": [
      "Collecting torch\n",
      "\u001b[?25l  Downloading https://files.pythonhosted.org/packages/7e/60/66415660aa46b23b5e1b72bc762e816736ce8d7260213e22365af51e8f9c/torch-1.0.0-cp36-cp36m-manylinux1_x86_64.whl (591.8MB)\n",
      "\u001b[K    100% |████████████████████████████████| 591.8MB 20kB/s \n",
      "tcmalloc: large alloc 1073750016 bytes == 0x61dd0000 @  0x7f36f42ef2a4 0x591a07 0x5b5d56 0x502e9a 0x506859 0x502209 0x502f3d 0x506859 0x504c28 0x502540 0x502f3d 0x506859 0x504c28 0x502540 0x502f3d 0x506859 0x504c28 0x502540 0x502f3d 0x507641 0x502209 0x502f3d 0x506859 0x504c28 0x502540 0x502f3d 0x507641 0x504c28 0x502540 0x502f3d 0x507641\n",
      "\u001b[?25hCollecting torchvision\n",
      "\u001b[?25l  Downloading https://files.pythonhosted.org/packages/ca/0d/f00b2885711e08bd71242ebe7b96561e6f6d01fdb4b9dcf4d37e2e13c5e1/torchvision-0.2.1-py2.py3-none-any.whl (54kB)\n",
      "\u001b[K    100% |████████████████████████████████| 61kB 24.7MB/s \n",
      "\u001b[?25hCollecting pillow>=4.1.1 (from torchvision)\n",
      "\u001b[?25l  Downloading https://files.pythonhosted.org/packages/85/5e/e91792f198bbc5a0d7d3055ad552bc4062942d27eaf75c3e2783cf64eae5/Pillow-5.4.1-cp36-cp36m-manylinux1_x86_64.whl (2.0MB)\n",
      "\u001b[K    100% |████████████████████████████████| 2.0MB 7.0MB/s \n",
      "\u001b[?25hRequirement already satisfied: numpy in /usr/local/lib/python3.6/dist-packages (from torchvision) (1.14.6)\n",
      "Requirement already satisfied: six in /usr/local/lib/python3.6/dist-packages (from torchvision) (1.11.0)\n",
      "Installing collected packages: torch, pillow, torchvision\n",
      "  Found existing installation: Pillow 4.0.0\n",
      "    Uninstalling Pillow-4.0.0:\n",
      "      Successfully uninstalled Pillow-4.0.0\n",
      "Successfully installed pillow-5.4.1 torch-1.0.0 torchvision-0.2.1\n",
      "\u001b[0;31;1mWARNING: The following packages were previously imported in this runtime:\n",
      "  [PIL]\n",
      "You must restart the runtime in order to use newly installed versions.\u001b[0m\n",
      "Collecting Pillow==4.0.0\n",
      "\u001b[?25l  Downloading https://files.pythonhosted.org/packages/37/e8/b3fbf87b0188d22246678f8cd61e23e31caa1769ebc06f1664e2e5fe8a17/Pillow-4.0.0-cp36-cp36m-manylinux1_x86_64.whl (5.6MB)\n",
      "\u001b[K    100% |████████████████████████████████| 5.6MB 7.1MB/s \n",
      "\u001b[?25hRequirement already satisfied: olefile in /usr/local/lib/python3.6/dist-packages (from Pillow==4.0.0) (0.46)\n",
      "\u001b[31mtorchvision 0.2.1 has requirement pillow>=4.1.1, but you'll have pillow 4.0.0 which is incompatible.\u001b[0m\n",
      "Installing collected packages: Pillow\n",
      "  Found existing installation: Pillow 5.4.1\n",
      "    Uninstalling Pillow-5.4.1:\n",
      "      Successfully uninstalled Pillow-5.4.1\n",
      "Successfully installed Pillow-4.0.0\n",
      "\u001b[0;31;1mWARNING: The following packages were previously imported in this runtime:\n",
      "  [PIL]\n",
      "You must restart the runtime in order to use newly installed versions.\u001b[0m\n"
     ]
    }
   ],
   "source": [
    "# import all the library's\n",
    "!pip install torch torchvision\n",
    "!pip install Pillow==4.0.0\n",
    "\n",
    "from tqdm import tqdm ,trange# for progress bar \n",
    "import os,sys,requests \n",
    "from concurrent.futures import ProcessPoolExecutor ,as_completed # Asynchronous Execution\n",
    "import numpy as np \n",
    "import matplotlib.pyplot as plt\n",
    "from pathlib import Path\n",
    "\n",
    "import torch\n",
    "from torch import nn\n",
    "import torch.nn.functional  as F\n",
    "from torch.utils.data import Dataset , DataLoader\n",
    "\n",
    "import torchvision\n",
    "from torchvision import transforms ,models"
   ]
  },
  {
   "cell_type": "code",
   "execution_count": 0,
   "metadata": {
    "colab": {
     "base_uri": "https://localhost:8080/",
     "height": 81,
     "resources": {
      "http://localhost:8080/nbextensions/google.colab/files.js": {
       "data": "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",
       "headers": [
        [
         "content-type",
         "application/javascript"
        ]
       ],
       "ok": true,
       "status": 200,
       "status_text": "OK"
      }
     }
    },
    "colab_type": "code",
    "id": "c_Dk4_oYq_iv",
    "outputId": "af39ed0b-0002-4662-8e03-17c010cb8127"
   },
   "outputs": [
    {
     "data": {
      "text/html": [
       "\n",
       "     <input type=\"file\" id=\"files-bfa494c1-b578-4268-8fa2-439d4441e588\" name=\"files[]\" multiple disabled />\n",
       "     <output id=\"result-bfa494c1-b578-4268-8fa2-439d4441e588\">\n",
       "      Upload widget is only available when the cell has been executed in the\n",
       "      current browser session. Please rerun this cell to enable.\n",
       "      </output>\n",
       "      <script src=\"/nbextensions/google.colab/files.js\"></script> "
      ],
      "text/plain": [
       "<IPython.core.display.HTML object>"
      ]
     },
     "metadata": {
      "tags": []
     },
     "output_type": "display_data"
    },
    {
     "name": "stdout",
     "output_type": "stream",
     "text": [
      "Saving Birds.zip to Birds.zip\n"
     ]
    }
   ],
   "source": [
    "# Upload the ziped file \n",
    "from google.colab import files\n",
    "uploaded = files.upload()"
   ]
  },
  {
   "cell_type": "code",
   "execution_count": 0,
   "metadata": {
    "colab": {
     "base_uri": "https://localhost:8080/",
     "height": 416
    },
    "colab_type": "code",
    "id": "lfASYDE4tbex",
    "outputId": "e61c2e87-2880-4f2f-ff4d-e2f4d0d7d6f1"
   },
   "outputs": [
    {
     "name": "stdout",
     "output_type": "stream",
     "text": [
      "Archive:  Birds.zip\n",
      "   creating: Birds/\n",
      "  inflating: Birds/Asian Paradise Flycatcher.csv  \n",
      "  inflating: Birds/Himalayan Monal.csv  \n",
      "  inflating: Birds/Indian Pitta.csv  \n",
      "  inflating: Birds/Mrs. Gould’s Sunbird.csv  \n",
      "  inflating: Birds/Oriental Dwarf Kingfisher.csv  \n",
      "  inflating: Birds/Red Headed Trogon.csv  \n",
      "  inflating: Birds/Sarus Crane.csv   \n",
      "  inflating: Birds/Satyr Tragopan.csv  \n",
      "  inflating: Birds/parrot.csv        \n",
      "  inflating: Birds/peacock.csv       \n",
      "total 620\n",
      "-rw-rw-r-- 1 root root 61740 Nov  3 19:23 'Asian Paradise Flycatcher.csv'\n",
      "-rw-rw-r-- 1 root root 48812 Nov  3 19:20 'Himalayan Monal.csv'\n",
      "-rw-rw-r-- 1 root root 60080 Nov  3 19:15 'Indian Pitta.csv'\n",
      "-rw-rw-r-- 1 root root 54367 Nov  3 19:12 'Mrs. Gould’s Sunbird.csv'\n",
      "-rw-rw-r-- 1 root root 59841 Nov  3 19:06 'Oriental Dwarf Kingfisher.csv'\n",
      "-rw-rw-r-- 1 root root 85959 Nov  3 18:43  parrot.csv\n",
      "-rw-rw-r-- 1 root root 77909 Nov  3 18:37  peacock.csv\n",
      "-rw-rw-r-- 1 root root 55118 Nov  3 19:05 'Red Headed Trogon.csv'\n",
      "-rw-rw-r-- 1 root root 58170 Nov  3 19:03 'Sarus Crane.csv'\n",
      "-rw-rw-r-- 1 root root 51467 Nov  3 19:01 'Satyr Tragopan.csv'\n"
     ]
    }
   ],
   "source": [
    "!unzip Birds.zip\n",
    "!ls -l Birds"
   ]
  },
  {
   "cell_type": "code",
   "execution_count": 0,
   "metadata": {
    "colab": {},
    "colab_type": "code",
    "id": "sCaeH916o6Lc"
   },
   "outputs": [],
   "source": [
    "def download_url(url:str, dest:str, overwrite:bool=False, chunk_size=1024*1024, timeout=4):\n",
    "    \"Download `url` to `dest` unless it exists and not `overwrite`.\"\n",
    "    if os.path.exists(dest) and not overwrite: return\n",
    "\n",
    "    u = requests.get(url, stream=True, timeout=timeout)\n",
    "    try: file_size = int(u.headers[\"Content-Length\"])\n",
    "    except: pass\n",
    "        \n",
    "    with open(dest, 'wb') as f:\n",
    "        for chunk in u.iter_content(chunk_size=chunk_size):\n",
    "            f.write(chunk)\n",
    "\n",
    "def download_images(urls:str, dest:Path, max_pics:int=1000, max_workers:int=8, timeout=4,prefix=None,show_progress=True):\n",
    "    \"Download images listed in text file urls to path dest , at most max_pics\"\n",
    "    urls = open(urls).read().strip().split(\"\\n\")[:max_pics] # get all the urls in the list\n",
    "    dest = Path(dest) # get the path of the folder \n",
    "    dest.mkdir(exist_ok=True) # create all the parent and child directory if neccessary. \n",
    "\n",
    "    if max_workers: # use the power of multiprocessing\n",
    "        with ProcessPoolExecutor(max_workers=max_workers) as ex: # use a ProcessPoolExecutor for using pool of process to execute call asynchronously.\n",
    "             # submit schedules the callable and return a Future object on completion. We iterate through all the urls to create Future objects for each url \n",
    "            futures = [ex.submit(download_url, url, dest/f\"{i:08d}.jpg\", timeout=timeout) for i,url in enumerate(urls)]\n",
    "            if show_progress : \n",
    "                for f in tqdm(as_completed(futures), total=len(urls),desc=prefix): pass # show th progress bar"
   ]
  },
  {
   "cell_type": "code",
   "execution_count": 0,
   "metadata": {
    "colab": {
     "base_uri": "https://localhost:8080/",
     "height": 191
    },
    "colab_type": "code",
    "id": "c-GIyV446djY",
    "outputId": "cec86332-dd3a-4d8c-c039-dc47b863e481"
   },
   "outputs": [
    {
     "data": {
      "text/plain": [
       "[PosixPath('Birds/Oriental Dwarf Kingfisher.csv'),\n",
       " PosixPath('Birds/peacock.csv'),\n",
       " PosixPath('Birds/parrot.csv'),\n",
       " PosixPath('Birds/Red Headed Trogon.csv'),\n",
       " PosixPath('Birds/Sarus Crane.csv'),\n",
       " PosixPath('Birds/Himalayan Monal.csv'),\n",
       " PosixPath('Birds/Mrs. Gould’s Sunbird.csv'),\n",
       " PosixPath('Birds/Satyr Tragopan.csv'),\n",
       " PosixPath('Birds/Asian Paradise Flycatcher.csv'),\n",
       " PosixPath('Birds/Indian Pitta.csv')]"
      ]
     },
     "execution_count": 6,
     "metadata": {
      "tags": []
     },
     "output_type": "execute_result"
    }
   ],
   "source": [
    "# get the path for all csv files\n",
    "birdspath = Path(\"Birds\")\n",
    "birdspath = [ Path(child) for child in birdspath.iterdir()]\n",
    "birdspath"
   ]
  },
  {
   "cell_type": "code",
   "execution_count": 0,
   "metadata": {
    "colab": {
     "base_uri": "https://localhost:8080/",
     "height": 364
    },
    "colab_type": "code",
    "id": "ArS40t5rppb6",
    "outputId": "eacc67d8-4260-41c3-8da5-946779067d88"
   },
   "outputs": [
    {
     "name": "stdout",
     "output_type": "stream",
     "text": [
      "['OrientalDwarfKingfisher',\n",
      " 'peacock',\n",
      " 'parrot',\n",
      " 'RedHeadedTrogon',\n",
      " 'SarusCrane',\n",
      " 'HimalayanMonal',\n",
      " 'MrsGould’sSunbird',\n",
      " 'SatyrTragopan',\n",
      " 'AsianParadiseFlycatcher',\n",
      " 'IndianPitta']\n",
      "{'AsianParadiseFlycatcher': PosixPath('Birds/Asian Paradise Flycatcher.csv'),\n",
      " 'HimalayanMonal': PosixPath('Birds/Himalayan Monal.csv'),\n",
      " 'IndianPitta': PosixPath('Birds/Indian Pitta.csv'),\n",
      " 'MrsGould’sSunbird': PosixPath('Birds/Mrs. Gould’s Sunbird.csv'),\n",
      " 'OrientalDwarfKingfisher': PosixPath('Birds/Oriental Dwarf Kingfisher.csv'),\n",
      " 'RedHeadedTrogon': PosixPath('Birds/Red Headed Trogon.csv'),\n",
      " 'SarusCrane': PosixPath('Birds/Sarus Crane.csv'),\n",
      " 'SatyrTragopan': PosixPath('Birds/Satyr Tragopan.csv'),\n",
      " 'parrot': PosixPath('Birds/parrot.csv'),\n",
      " 'peacock': PosixPath('Birds/peacock.csv')}\n"
     ]
    }
   ],
   "source": [
    "import re\n",
    "from pprint import pprint \n",
    "all_birds_Name = [re.sub(r\".csv|\\.\\s|\\s*|\\’\" , r\"\", x.name) for x in birdspath] # Get all the birds name from the csv file\n",
    "pprint(all_birds_Name)\n",
    "folder_file = {x:y for x ,y in zip(all_birds_Name , birdspath)} # create a folder name the file name dictionary \n",
    "pprint(folder_file)"
   ]
  },
  {
   "cell_type": "code",
   "execution_count": 0,
   "metadata": {
    "colab": {
     "base_uri": "https://localhost:8080/",
     "height": 191
    },
    "colab_type": "code",
    "id": "mx3NbCz16ua9",
    "outputId": "86cb14c5-7eb7-4774-9938-58e6cf801e7b"
   },
   "outputs": [
    {
     "name": "stderr",
     "output_type": "stream",
     "text": [
      "OrientalDwarfKingfisher: 100%|██████████| 546/546 [00:32<00:00,  2.60it/s]\n",
      "peacock: 100%|██████████| 810/810 [01:31<00:00, 12.81s/it]\n",
      "parrot: 100%|██████████| 847/847 [01:51<00:00, 14.50s/it]\n",
      "RedHeadedTrogon: 100%|██████████| 585/585 [00:35<00:00, 16.34it/s]\n",
      "SarusCrane: 100%|██████████| 609/609 [00:33<00:00,  8.63it/s]\n",
      "HimalayanMonal: 100%|██████████| 512/512 [00:31<00:00,  2.15it/s]\n",
      "MrsGould’sSunbird: 100%|██████████| 550/550 [00:30<00:00, 18.15it/s]\n",
      "SatyrTragopan: 100%|██████████| 544/544 [00:38<00:00,  2.21it/s]\n",
      "AsianParadiseFlycatcher: 100%|██████████| 634/634 [00:33<00:00, 13.77it/s]\n",
      "IndianPitta: 100%|██████████| 648/648 [00:37<00:00, 17.50it/s]\n"
     ]
    }
   ],
   "source": [
    "# download all the images \n",
    "for folder,file in folder_file.items():\n",
    "    path = Path(\"train\") # create a parent directory   \n",
    "    dest = path/folder # Specific folder for each bird\n",
    "    dest.mkdir(parents=True,exist_ok=True)\n",
    "    download_images(file, dest,prefix=folder,max_workers=16)"
   ]
  },
  {
   "cell_type": "code",
   "execution_count": 0,
   "metadata": {
    "colab": {
     "base_uri": "https://localhost:8080/",
     "height": 191
    },
    "colab_type": "code",
    "id": "KpivGLyOtfcS",
    "outputId": "cfa27060-5d79-4c64-c399-71522648c211"
   },
   "outputs": [
    {
     "data": {
      "text/plain": [
       "[('HimalayanMonal', 500),\n",
       " ('MrsGould’sSunbird', 514),\n",
       " ('SatyrTragopan', 514),\n",
       " ('OrientalDwarfKingfisher', 541),\n",
       " ('RedHeadedTrogon', 548),\n",
       " ('SarusCrane', 592),\n",
       " ('AsianParadiseFlycatcher', 610),\n",
       " ('IndianPitta', 634),\n",
       " ('peacock', 801),\n",
       " ('parrot', 837)]"
      ]
     },
     "execution_count": 9,
     "metadata": {
      "tags": []
     },
     "output_type": "execute_result"
    }
   ],
   "source": [
    "length = lambda iterrator : len(tuple(iterrator))\n",
    "birdsPerClassCount = { (path/folder).name : length((path/folder).iterdir()) for folder,file in folder_file.items() }\n",
    "sorted(birdsPerClassCount.items() , key=lambda x :x[1])"
   ]
  },
  {
   "cell_type": "code",
   "execution_count": 0,
   "metadata": {
    "colab": {},
    "colab_type": "code",
    "id": "FBBjtKenyYF1"
   },
   "outputs": [],
   "source": [
    "import PIL\n",
    "def verify_image(file:Path, delete:bool ,dest:Path=None, n_channels:int=3, **kwargs):\n",
    "    \"\"\"Check if the image in `file` exists, can be opend and has `n_channels`. If `delete`, removes it if it fails.\n",
    "        Result is stored in `dest` `img_format` and `kwargs` are passed to PIL.Image.save.\"\"\"\n",
    "    try:\n",
    "        img = PIL.Image.open(file)\n",
    "        assert isinstance(dest, Path), \"You should provide `dest` Path to save resized image\"\n",
    "        if not file.is_file(): return\n",
    "        if n_channels == 3: img = img.convert(\"RGB\")\n",
    "        img.save(file, **kwargs)\n",
    "        img = np.array(img)\n",
    "        img_channels = 1 if len(img.shape) == 2 else img.shape[2]\n",
    "        assert img_channels == n_channels, f\"Image {file} has {img_channels} instead of {n_channels}\"\n",
    "    except Exception as e:\n",
    "        #print(f'{e}')\n",
    "        if delete: file.unlink()\n",
    "\n",
    "def verify_images(path:Path, delete:bool=True, max_workers:int=4 , dest:Path=\".\",n_channels:int=3,**kwargs):\n",
    "    \"\"\"Check if the image in `path` exists, can be opened and has `n_channels`.\n",
    "    If `n_channels` is 3 – it'll try to convert image to RGB. If `delete`, removes it if it fails.\n",
    "    If `max_size` is specifided,\n",
    "    image is resized to the same ratio so that both sizes are less than `max_size`, using `interp`.\n",
    "    Result is stored in `dest`, `ext` forces an extension type, `img_format` and `kwargs` are\n",
    "    passed to PIL.Image.save. Use `max_workers` CPUs.\"\"\"\n",
    "    dest = path/Path(dest)\n",
    "    dest.mkdir(exist_ok=True)\n",
    "    with ProcessPoolExecutor(max_workers=max_workers) as ex:\n",
    "        files = [Path(file) for file in path.iterdir()]\n",
    "        futures = [ex.submit(verify_image, file, delete=delete,dest=dest, n_channels=n_channels, **kwargs) for file in files]\n",
    "    for f in tqdm(as_completed(futures), total=len(files) , desc=path.name): pass"
   ]
  },
  {
   "cell_type": "code",
   "execution_count": 0,
   "metadata": {
    "colab": {
     "base_uri": "https://localhost:8080/",
     "height": 419
    },
    "colab_type": "code",
    "id": "Hr87BXiPydTw",
    "outputId": "51a2ddc1-7c1d-40f0-d5de-8b9842f726d5"
   },
   "outputs": [
    {
     "name": "stderr",
     "output_type": "stream",
     "text": [
      "OrientalDwarfKingfisher: 100%|██████████| 541/541 [00:00<00:00, 202654.15it/s]\n",
      "/usr/local/lib/python3.6/dist-packages/PIL/Image.py:872: UserWarning: Palette images with Transparency   expressed in bytes should be converted to RGBA images\n",
      "  'to RGBA images')\n",
      "/usr/local/lib/python3.6/dist-packages/PIL/Image.py:872: UserWarning: Palette images with Transparency   expressed in bytes should be converted to RGBA images\n",
      "  'to RGBA images')\n",
      "peacock: 100%|██████████| 801/801 [00:00<00:00, 231236.66it/s]\n",
      "parrot: 100%|██████████| 837/837 [00:00<00:00, 208829.48it/s]\n",
      "/usr/local/lib/python3.6/dist-packages/PIL/Image.py:872: UserWarning: Palette images with Transparency   expressed in bytes should be converted to RGBA images\n",
      "  'to RGBA images')\n",
      "RedHeadedTrogon: 100%|██████████| 548/548 [00:00<00:00, 181812.89it/s]\n",
      "SarusCrane: 100%|██████████| 592/592 [00:00<00:00, 215092.51it/s]\n",
      "HimalayanMonal: 100%|██████████| 500/500 [00:00<00:00, 182853.95it/s]\n",
      "MrsGould’sSunbird: 100%|██████████| 514/514 [00:00<00:00, 197496.54it/s]\n",
      "/usr/local/lib/python3.6/dist-packages/PIL/Image.py:872: UserWarning: Palette images with Transparency   expressed in bytes should be converted to RGBA images\n",
      "  'to RGBA images')\n",
      "/usr/local/lib/python3.6/dist-packages/PIL/Image.py:872: UserWarning: Palette images with Transparency   expressed in bytes should be converted to RGBA images\n",
      "  'to RGBA images')\n",
      "/usr/local/lib/python3.6/dist-packages/PIL/Image.py:872: UserWarning: Palette images with Transparency   expressed in bytes should be converted to RGBA images\n",
      "  'to RGBA images')\n",
      "SatyrTragopan: 100%|██████████| 514/514 [00:00<00:00, 210740.20it/s]\n",
      "AsianParadiseFlycatcher: 100%|██████████| 610/610 [00:00<00:00, 200983.93it/s]\n",
      "IndianPitta: 100%|██████████| 634/634 [00:00<00:00, 211449.49it/s]\n"
     ]
    }
   ],
   "source": [
    "for folder,file in folder_file.items():\n",
    "    path = Path(\"train\")\n",
    "    verify_images(path/folder,delete=True)"
   ]
  },
  {
   "cell_type": "code",
   "execution_count": 0,
   "metadata": {
    "colab": {
     "base_uri": "https://localhost:8080/",
     "height": 191
    },
    "colab_type": "code",
    "id": "pid9fWsMygpQ",
    "outputId": "f4e74b53-a85f-4fba-9d85-f6d2c0b9fb53"
   },
   "outputs": [
    {
     "data": {
      "text/plain": [
       "[('HimalayanMonal', 487),\n",
       " ('MrsGould’sSunbird', 493),\n",
       " ('SatyrTragopan', 499),\n",
       " ('OrientalDwarfKingfisher', 512),\n",
       " ('RedHeadedTrogon', 522),\n",
       " ('SarusCrane', 580),\n",
       " ('AsianParadiseFlycatcher', 581),\n",
       " ('IndianPitta', 608),\n",
       " ('parrot', 755),\n",
       " ('peacock', 762)]"
      ]
     },
     "execution_count": 12,
     "metadata": {
      "tags": []
     },
     "output_type": "execute_result"
    }
   ],
   "source": [
    "birdsPerClassCountVerify = { (path/folder).name :len([*(path/folder).iterdir()]) for folder,file in folder_file.items() }\n",
    "sorted(birdsPerClassCountVerify.items() , key=lambda x :x[1])"
   ]
  },
  {
   "cell_type": "code",
   "execution_count": 0,
   "metadata": {
    "colab": {},
    "colab_type": "code",
    "id": "lnVFrQD06P7A"
   },
   "outputs": [],
   "source": [
    " \n",
    " "
   ]
  },
  {
   "cell_type": "code",
   "execution_count": 0,
   "metadata": {
    "colab": {},
    "colab_type": "code",
    "id": "zYqcR-mb8uHm"
   },
   "outputs": [],
   "source": []
  },
  {
   "cell_type": "markdown",
   "metadata": {
    "colab_type": "text",
    "id": "RmGXSFIt6Rlu"
   },
   "source": [
    "# Transfer Learning\n",
    "\n",
    "![](https://2s7gjr373w3x22jf92z99mgm5w-wpengine.netdna-ssl.com/wp-content/uploads/2016/06/transfer-learning.png)\n",
    "\n",
    "In practice, very few people train an entire Convolutional Network from scratch (with random initialization), because it is relatively rare to have a dataset of sufficient size. Instead, it is common to pretrain a ConvNet on a very large dataset (e.g. ImageNet, which contains 1.2 million images with 1000 categories), and then use the ConvNet either as an initialization or a fixed feature extractor for the task of interest. The three major Transfer Learning scenarios look as follows:\n",
    "\n",
    "  1.   ConvNet as fixed feature extractor : Here we take pretrained network chuck out the fully connected classifier part and use only the convolution layers as a feature extractor which can be used in Style Transfer or Deep Dream algorithms.\n",
    "\n",
    "  2.    Fine-tuning the ConvNet : The model can be fine-tunned for a particular problem. For example in Dog vs Cat classification we can use the pretrained imagenet weights and can fine tune the convolution layer for dogs vs cats example.We can do this because imagenet dataset already contained Dogs and Cats example\n",
    "  \n",
    "  3.    Pretrained models: Since modern ConvNets take 2-3 weeks to train across multiple GPUs on ImageNet, it is common to see people release their final ConvNet checkpoints for the benefit of others who can use the networks for fine-tuning.\n",
    "\n"
   ]
  },
  {
   "cell_type": "code",
   "execution_count": 0,
   "metadata": {
    "colab": {
     "base_uri": "https://localhost:8080/",
     "height": 34
    },
    "colab_type": "code",
    "id": "_XtikPyW79GT",
    "outputId": "a0879e06-d44c-4e62-813c-f148656f73d0"
   },
   "outputs": [
    {
     "name": "stdout",
     "output_type": "stream",
     "text": [
      "2048\n"
     ]
    }
   ],
   "source": [
    "model = models.resnet50(pretrained=True) # load the pretrained model\n",
    "num_features = model.fc.in_features # get the no of on_features in last Linear unit\n",
    "print(num_features)\n",
    "## freeze the entire convolution base\n",
    "for param in model.parameters():\n",
    "  param.requires_grad_(False)\n"
   ]
  },
  {
   "cell_type": "code",
   "execution_count": 0,
   "metadata": {
    "colab": {
     "base_uri": "https://localhost:8080/",
     "height": 3247
    },
    "colab_type": "code",
    "id": "jQyFChlsdiSb",
    "outputId": "ce3a9c58-2390-436f-c207-a647be268193"
   },
   "outputs": [
    {
     "data": {
      "text/plain": [
       "ResNet(\n",
       "  (conv1): Conv2d(3, 64, kernel_size=(7, 7), stride=(2, 2), padding=(3, 3), bias=False)\n",
       "  (bn1): BatchNorm2d(64, eps=1e-05, momentum=0.1, affine=True, track_running_stats=True)\n",
       "  (relu): ReLU(inplace)\n",
       "  (maxpool): MaxPool2d(kernel_size=3, stride=2, padding=1, dilation=1, ceil_mode=False)\n",
       "  (layer1): Sequential(\n",
       "    (0): Bottleneck(\n",
       "      (conv1): Conv2d(64, 64, kernel_size=(1, 1), stride=(1, 1), bias=False)\n",
       "      (bn1): BatchNorm2d(64, eps=1e-05, momentum=0.1, affine=True, track_running_stats=True)\n",
       "      (conv2): Conv2d(64, 64, kernel_size=(3, 3), stride=(1, 1), padding=(1, 1), bias=False)\n",
       "      (bn2): BatchNorm2d(64, eps=1e-05, momentum=0.1, affine=True, track_running_stats=True)\n",
       "      (conv3): Conv2d(64, 256, kernel_size=(1, 1), stride=(1, 1), bias=False)\n",
       "      (bn3): BatchNorm2d(256, eps=1e-05, momentum=0.1, affine=True, track_running_stats=True)\n",
       "      (relu): ReLU(inplace)\n",
       "      (downsample): Sequential(\n",
       "        (0): Conv2d(64, 256, kernel_size=(1, 1), stride=(1, 1), bias=False)\n",
       "        (1): BatchNorm2d(256, eps=1e-05, momentum=0.1, affine=True, track_running_stats=True)\n",
       "      )\n",
       "    )\n",
       "    (1): Bottleneck(\n",
       "      (conv1): Conv2d(256, 64, kernel_size=(1, 1), stride=(1, 1), bias=False)\n",
       "      (bn1): BatchNorm2d(64, eps=1e-05, momentum=0.1, affine=True, track_running_stats=True)\n",
       "      (conv2): Conv2d(64, 64, kernel_size=(3, 3), stride=(1, 1), padding=(1, 1), bias=False)\n",
       "      (bn2): BatchNorm2d(64, eps=1e-05, momentum=0.1, affine=True, track_running_stats=True)\n",
       "      (conv3): Conv2d(64, 256, kernel_size=(1, 1), stride=(1, 1), bias=False)\n",
       "      (bn3): BatchNorm2d(256, eps=1e-05, momentum=0.1, affine=True, track_running_stats=True)\n",
       "      (relu): ReLU(inplace)\n",
       "    )\n",
       "    (2): Bottleneck(\n",
       "      (conv1): Conv2d(256, 64, kernel_size=(1, 1), stride=(1, 1), bias=False)\n",
       "      (bn1): BatchNorm2d(64, eps=1e-05, momentum=0.1, affine=True, track_running_stats=True)\n",
       "      (conv2): Conv2d(64, 64, kernel_size=(3, 3), stride=(1, 1), padding=(1, 1), bias=False)\n",
       "      (bn2): BatchNorm2d(64, eps=1e-05, momentum=0.1, affine=True, track_running_stats=True)\n",
       "      (conv3): Conv2d(64, 256, kernel_size=(1, 1), stride=(1, 1), bias=False)\n",
       "      (bn3): BatchNorm2d(256, eps=1e-05, momentum=0.1, affine=True, track_running_stats=True)\n",
       "      (relu): ReLU(inplace)\n",
       "    )\n",
       "  )\n",
       "  (layer2): Sequential(\n",
       "    (0): Bottleneck(\n",
       "      (conv1): Conv2d(256, 128, kernel_size=(1, 1), stride=(1, 1), bias=False)\n",
       "      (bn1): BatchNorm2d(128, eps=1e-05, momentum=0.1, affine=True, track_running_stats=True)\n",
       "      (conv2): Conv2d(128, 128, kernel_size=(3, 3), stride=(2, 2), padding=(1, 1), bias=False)\n",
       "      (bn2): BatchNorm2d(128, eps=1e-05, momentum=0.1, affine=True, track_running_stats=True)\n",
       "      (conv3): Conv2d(128, 512, kernel_size=(1, 1), stride=(1, 1), bias=False)\n",
       "      (bn3): BatchNorm2d(512, eps=1e-05, momentum=0.1, affine=True, track_running_stats=True)\n",
       "      (relu): ReLU(inplace)\n",
       "      (downsample): Sequential(\n",
       "        (0): Conv2d(256, 512, kernel_size=(1, 1), stride=(2, 2), bias=False)\n",
       "        (1): BatchNorm2d(512, eps=1e-05, momentum=0.1, affine=True, track_running_stats=True)\n",
       "      )\n",
       "    )\n",
       "    (1): Bottleneck(\n",
       "      (conv1): Conv2d(512, 128, kernel_size=(1, 1), stride=(1, 1), bias=False)\n",
       "      (bn1): BatchNorm2d(128, eps=1e-05, momentum=0.1, affine=True, track_running_stats=True)\n",
       "      (conv2): Conv2d(128, 128, kernel_size=(3, 3), stride=(1, 1), padding=(1, 1), bias=False)\n",
       "      (bn2): BatchNorm2d(128, eps=1e-05, momentum=0.1, affine=True, track_running_stats=True)\n",
       "      (conv3): Conv2d(128, 512, kernel_size=(1, 1), stride=(1, 1), bias=False)\n",
       "      (bn3): BatchNorm2d(512, eps=1e-05, momentum=0.1, affine=True, track_running_stats=True)\n",
       "      (relu): ReLU(inplace)\n",
       "    )\n",
       "    (2): Bottleneck(\n",
       "      (conv1): Conv2d(512, 128, kernel_size=(1, 1), stride=(1, 1), bias=False)\n",
       "      (bn1): BatchNorm2d(128, eps=1e-05, momentum=0.1, affine=True, track_running_stats=True)\n",
       "      (conv2): Conv2d(128, 128, kernel_size=(3, 3), stride=(1, 1), padding=(1, 1), bias=False)\n",
       "      (bn2): BatchNorm2d(128, eps=1e-05, momentum=0.1, affine=True, track_running_stats=True)\n",
       "      (conv3): Conv2d(128, 512, kernel_size=(1, 1), stride=(1, 1), bias=False)\n",
       "      (bn3): BatchNorm2d(512, eps=1e-05, momentum=0.1, affine=True, track_running_stats=True)\n",
       "      (relu): ReLU(inplace)\n",
       "    )\n",
       "    (3): Bottleneck(\n",
       "      (conv1): Conv2d(512, 128, kernel_size=(1, 1), stride=(1, 1), bias=False)\n",
       "      (bn1): BatchNorm2d(128, eps=1e-05, momentum=0.1, affine=True, track_running_stats=True)\n",
       "      (conv2): Conv2d(128, 128, kernel_size=(3, 3), stride=(1, 1), padding=(1, 1), bias=False)\n",
       "      (bn2): BatchNorm2d(128, eps=1e-05, momentum=0.1, affine=True, track_running_stats=True)\n",
       "      (conv3): Conv2d(128, 512, kernel_size=(1, 1), stride=(1, 1), bias=False)\n",
       "      (bn3): BatchNorm2d(512, eps=1e-05, momentum=0.1, affine=True, track_running_stats=True)\n",
       "      (relu): ReLU(inplace)\n",
       "    )\n",
       "  )\n",
       "  (layer3): Sequential(\n",
       "    (0): Bottleneck(\n",
       "      (conv1): Conv2d(512, 256, kernel_size=(1, 1), stride=(1, 1), bias=False)\n",
       "      (bn1): BatchNorm2d(256, eps=1e-05, momentum=0.1, affine=True, track_running_stats=True)\n",
       "      (conv2): Conv2d(256, 256, kernel_size=(3, 3), stride=(2, 2), padding=(1, 1), bias=False)\n",
       "      (bn2): BatchNorm2d(256, eps=1e-05, momentum=0.1, affine=True, track_running_stats=True)\n",
       "      (conv3): Conv2d(256, 1024, kernel_size=(1, 1), stride=(1, 1), bias=False)\n",
       "      (bn3): BatchNorm2d(1024, eps=1e-05, momentum=0.1, affine=True, track_running_stats=True)\n",
       "      (relu): ReLU(inplace)\n",
       "      (downsample): Sequential(\n",
       "        (0): Conv2d(512, 1024, kernel_size=(1, 1), stride=(2, 2), bias=False)\n",
       "        (1): BatchNorm2d(1024, eps=1e-05, momentum=0.1, affine=True, track_running_stats=True)\n",
       "      )\n",
       "    )\n",
       "    (1): Bottleneck(\n",
       "      (conv1): Conv2d(1024, 256, kernel_size=(1, 1), stride=(1, 1), bias=False)\n",
       "      (bn1): BatchNorm2d(256, eps=1e-05, momentum=0.1, affine=True, track_running_stats=True)\n",
       "      (conv2): Conv2d(256, 256, kernel_size=(3, 3), stride=(1, 1), padding=(1, 1), bias=False)\n",
       "      (bn2): BatchNorm2d(256, eps=1e-05, momentum=0.1, affine=True, track_running_stats=True)\n",
       "      (conv3): Conv2d(256, 1024, kernel_size=(1, 1), stride=(1, 1), bias=False)\n",
       "      (bn3): BatchNorm2d(1024, eps=1e-05, momentum=0.1, affine=True, track_running_stats=True)\n",
       "      (relu): ReLU(inplace)\n",
       "    )\n",
       "    (2): Bottleneck(\n",
       "      (conv1): Conv2d(1024, 256, kernel_size=(1, 1), stride=(1, 1), bias=False)\n",
       "      (bn1): BatchNorm2d(256, eps=1e-05, momentum=0.1, affine=True, track_running_stats=True)\n",
       "      (conv2): Conv2d(256, 256, kernel_size=(3, 3), stride=(1, 1), padding=(1, 1), bias=False)\n",
       "      (bn2): BatchNorm2d(256, eps=1e-05, momentum=0.1, affine=True, track_running_stats=True)\n",
       "      (conv3): Conv2d(256, 1024, kernel_size=(1, 1), stride=(1, 1), bias=False)\n",
       "      (bn3): BatchNorm2d(1024, eps=1e-05, momentum=0.1, affine=True, track_running_stats=True)\n",
       "      (relu): ReLU(inplace)\n",
       "    )\n",
       "    (3): Bottleneck(\n",
       "      (conv1): Conv2d(1024, 256, kernel_size=(1, 1), stride=(1, 1), bias=False)\n",
       "      (bn1): BatchNorm2d(256, eps=1e-05, momentum=0.1, affine=True, track_running_stats=True)\n",
       "      (conv2): Conv2d(256, 256, kernel_size=(3, 3), stride=(1, 1), padding=(1, 1), bias=False)\n",
       "      (bn2): BatchNorm2d(256, eps=1e-05, momentum=0.1, affine=True, track_running_stats=True)\n",
       "      (conv3): Conv2d(256, 1024, kernel_size=(1, 1), stride=(1, 1), bias=False)\n",
       "      (bn3): BatchNorm2d(1024, eps=1e-05, momentum=0.1, affine=True, track_running_stats=True)\n",
       "      (relu): ReLU(inplace)\n",
       "    )\n",
       "    (4): Bottleneck(\n",
       "      (conv1): Conv2d(1024, 256, kernel_size=(1, 1), stride=(1, 1), bias=False)\n",
       "      (bn1): BatchNorm2d(256, eps=1e-05, momentum=0.1, affine=True, track_running_stats=True)\n",
       "      (conv2): Conv2d(256, 256, kernel_size=(3, 3), stride=(1, 1), padding=(1, 1), bias=False)\n",
       "      (bn2): BatchNorm2d(256, eps=1e-05, momentum=0.1, affine=True, track_running_stats=True)\n",
       "      (conv3): Conv2d(256, 1024, kernel_size=(1, 1), stride=(1, 1), bias=False)\n",
       "      (bn3): BatchNorm2d(1024, eps=1e-05, momentum=0.1, affine=True, track_running_stats=True)\n",
       "      (relu): ReLU(inplace)\n",
       "    )\n",
       "    (5): Bottleneck(\n",
       "      (conv1): Conv2d(1024, 256, kernel_size=(1, 1), stride=(1, 1), bias=False)\n",
       "      (bn1): BatchNorm2d(256, eps=1e-05, momentum=0.1, affine=True, track_running_stats=True)\n",
       "      (conv2): Conv2d(256, 256, kernel_size=(3, 3), stride=(1, 1), padding=(1, 1), bias=False)\n",
       "      (bn2): BatchNorm2d(256, eps=1e-05, momentum=0.1, affine=True, track_running_stats=True)\n",
       "      (conv3): Conv2d(256, 1024, kernel_size=(1, 1), stride=(1, 1), bias=False)\n",
       "      (bn3): BatchNorm2d(1024, eps=1e-05, momentum=0.1, affine=True, track_running_stats=True)\n",
       "      (relu): ReLU(inplace)\n",
       "    )\n",
       "  )\n",
       "  (layer4): Sequential(\n",
       "    (0): Bottleneck(\n",
       "      (conv1): Conv2d(1024, 512, kernel_size=(1, 1), stride=(1, 1), bias=False)\n",
       "      (bn1): BatchNorm2d(512, eps=1e-05, momentum=0.1, affine=True, track_running_stats=True)\n",
       "      (conv2): Conv2d(512, 512, kernel_size=(3, 3), stride=(2, 2), padding=(1, 1), bias=False)\n",
       "      (bn2): BatchNorm2d(512, eps=1e-05, momentum=0.1, affine=True, track_running_stats=True)\n",
       "      (conv3): Conv2d(512, 2048, kernel_size=(1, 1), stride=(1, 1), bias=False)\n",
       "      (bn3): BatchNorm2d(2048, eps=1e-05, momentum=0.1, affine=True, track_running_stats=True)\n",
       "      (relu): ReLU(inplace)\n",
       "      (downsample): Sequential(\n",
       "        (0): Conv2d(1024, 2048, kernel_size=(1, 1), stride=(2, 2), bias=False)\n",
       "        (1): BatchNorm2d(2048, eps=1e-05, momentum=0.1, affine=True, track_running_stats=True)\n",
       "      )\n",
       "    )\n",
       "    (1): Bottleneck(\n",
       "      (conv1): Conv2d(2048, 512, kernel_size=(1, 1), stride=(1, 1), bias=False)\n",
       "      (bn1): BatchNorm2d(512, eps=1e-05, momentum=0.1, affine=True, track_running_stats=True)\n",
       "      (conv2): Conv2d(512, 512, kernel_size=(3, 3), stride=(1, 1), padding=(1, 1), bias=False)\n",
       "      (bn2): BatchNorm2d(512, eps=1e-05, momentum=0.1, affine=True, track_running_stats=True)\n",
       "      (conv3): Conv2d(512, 2048, kernel_size=(1, 1), stride=(1, 1), bias=False)\n",
       "      (bn3): BatchNorm2d(2048, eps=1e-05, momentum=0.1, affine=True, track_running_stats=True)\n",
       "      (relu): ReLU(inplace)\n",
       "    )\n",
       "    (2): Bottleneck(\n",
       "      (conv1): Conv2d(2048, 512, kernel_size=(1, 1), stride=(1, 1), bias=False)\n",
       "      (bn1): BatchNorm2d(512, eps=1e-05, momentum=0.1, affine=True, track_running_stats=True)\n",
       "      (conv2): Conv2d(512, 512, kernel_size=(3, 3), stride=(1, 1), padding=(1, 1), bias=False)\n",
       "      (bn2): BatchNorm2d(512, eps=1e-05, momentum=0.1, affine=True, track_running_stats=True)\n",
       "      (conv3): Conv2d(512, 2048, kernel_size=(1, 1), stride=(1, 1), bias=False)\n",
       "      (bn3): BatchNorm2d(2048, eps=1e-05, momentum=0.1, affine=True, track_running_stats=True)\n",
       "      (relu): ReLU(inplace)\n",
       "    )\n",
       "  )\n",
       "  (avgpool): AvgPool2d(kernel_size=7, stride=1, padding=0)\n",
       "  (fc): Sequential(\n",
       "    (0): Linear(in_features=2048, out_features=1024, bias=True)\n",
       "    (1): ReLU()\n",
       "    (2): BatchNorm1d(1024, eps=1e-05, momentum=0.1, affine=True, track_running_stats=True)\n",
       "    (3): Dropout(p=0.5)\n",
       "    (4): Linear(in_features=1024, out_features=512, bias=True)\n",
       "    (5): ReLU()\n",
       "    (6): BatchNorm1d(512, eps=1e-05, momentum=0.1, affine=True, track_running_stats=True)\n",
       "    (7): Dropout(p=0.5)\n",
       "    (8): Linear(in_features=512, out_features=10, bias=True)\n",
       "  )\n",
       ")"
      ]
     },
     "execution_count": 279,
     "metadata": {
      "tags": []
     },
     "output_type": "execute_result"
    }
   ],
   "source": [
    "def create_head(num_features , number_classes ,dropout_prob=0.5 ,activation_func =nn.ReLU):\n",
    "  features_lst = [num_features , num_features//2 , num_features//4]\n",
    "  layers = []\n",
    "  for in_f ,out_f in zip(features_lst[:-1] , features_lst[1:]):\n",
    "    layers.append(nn.Linear(in_f , out_f))\n",
    "    layers.append(activation_func())\n",
    "    layers.append(nn.BatchNorm1d(out_f))\n",
    "    if dropout_prob !=0 : layers.append(nn.Dropout(dropout_prob))\n",
    "  layers.append(nn.Linear(features_lst[-1] , number_classes))\n",
    "  return nn.Sequential(*layers)\n",
    "\n",
    "top_head = create_head(num_features , len(birdsPerClassCount)) # because ten classes\n",
    "model.fc = top_head # replace the fully connected layer\n",
    "\n",
    "model"
   ]
  },
  {
   "cell_type": "code",
   "execution_count": 0,
   "metadata": {
    "colab": {
     "base_uri": "https://localhost:8080/",
     "height": 34
    },
    "colab_type": "code",
    "id": "_K_975NJIKrk",
    "outputId": "bd30b1f6-ef1f-42b4-ca39-f8679f2991ff"
   },
   "outputs": [
    {
     "name": "stdout",
     "output_type": "stream",
     "text": [
      "len of trainSet 4640 , len of testSet 1159\n"
     ]
    }
   ],
   "source": [
    "batch_size=32\n",
    "transform = transforms.Compose([transforms.Resize((224,224)) , \n",
    "                               transforms.ToTensor(),\n",
    "                               transforms.Normalize([0.485, 0.456, 0.406], [0.229, 0.224, 0.225])\n",
    "                               ])\n",
    "myDataset = torchvision.datasets.ImageFolder(\"train\" , transform = transform)\n",
    "valid_no  = int(0.2 * len(myDataset))\n",
    "# so divide the data into trainset and testset\n",
    "trainSet,testSet = torch.utils.data.random_split(myDataset,(len(myDataset)-valid_no,valid_no))\n",
    "print(f\"len of trainSet {len(trainSet)} , len of testSet {len(testSet)}\")\n",
    "trainLoader  = DataLoader(trainSet , batch_size=batch_size ,shuffle=True) \n",
    "testLoader  = DataLoader(testSet , batch_size=batch_size ,shuffle=True)\n",
    "data_loader={\"train\":trainLoader , \"val\":testLoader}\n"
   ]
  },
  {
   "cell_type": "code",
   "execution_count": 0,
   "metadata": {
    "colab": {},
    "colab_type": "code",
    "id": "0j9z2QR8Jgva"
   },
   "outputs": [],
   "source": [
    "import torch.optim as optim\n",
    "from torch.optim import lr_scheduler\n",
    "\n",
    "device = torch.device(\"cuda\" if torch.cuda.is_available() else \"cpu\")\n",
    "model = model.to(device)\n",
    "\n",
    "# specify loss function (categorical cross-entropy)\n",
    "criterion = nn.CrossEntropyLoss()\n",
    "\n",
    "# specify optimizer\n",
    "optimizer = optim.Adam(model.parameters(), lr=0.01)\n",
    "sgdr_partial = lr_scheduler.CosineAnnealingLR(optimizer, T_max=5, eta_min=0.005 )"
   ]
  },
  {
   "cell_type": "code",
   "execution_count": 0,
   "metadata": {
    "colab": {},
    "colab_type": "code",
    "id": "Uqcq3wJEKAZk"
   },
   "outputs": [],
   "source": [
    "from tqdm import trange\n",
    "\n",
    "def train(model , data_loader , criterion , optimizer ,scheduler, num_epochs=5):\n",
    "\n",
    "  for epoch in trange(num_epochs,desc=\"Epochs\"):\n",
    "    result = []\n",
    "    for phase in ['train', 'val']:\n",
    "      if phase==\"train\":     # put the model in training mode\n",
    "        model.train()\n",
    "        scheduler.step()\n",
    "      else:     # put the model in validation mode\n",
    "        model.eval()\n",
    "       \n",
    "      # keep track of training and validation loss\n",
    "      running_loss = 0.0\n",
    "      running_corrects = 0.0  \n",
    "      \n",
    "      for data , target in data_loader[phase]:\n",
    "        #load the data and target to respective device\n",
    "        data , target = data.to(device)  , target.to(device)\n",
    "\n",
    "        with torch.set_grad_enabled(phase==\"train\"):\n",
    "          #feed the input\n",
    "          output = model(data)\n",
    "          #calculate the loss\n",
    "          loss = criterion(output,target)\n",
    "          preds = torch.argmax(output,1)\n",
    "\n",
    "          if phase==\"train\"  :\n",
    "            # backward pass: compute gradient of the loss with respect to model parameters \n",
    "            loss.backward()\n",
    "            # update the model parameters\n",
    "            optimizer.step()\n",
    "            # zero the grad to stop it from accumulating\n",
    "            optimizer.zero_grad()\n",
    "\n",
    "\n",
    "        # statistics\n",
    "        running_loss += loss.item() * data.size(0)\n",
    "        running_corrects += torch.sum(preds == target.data).item()\n",
    "        \n",
    "        \n",
    "      epoch_loss = running_loss / len(data_loader[phase].dataset)\n",
    "      epoch_acc = running_corrects / len(data_loader[phase].dataset)\n",
    "\n",
    "      result.append('{} Loss: {:.4f} Acc: {:.4f}'.format(phase, epoch_loss, epoch_acc))\n",
    "    print(result)\n",
    "          \n",
    "        "
   ]
  },
  {
   "cell_type": "code",
   "execution_count": 0,
   "metadata": {
    "colab": {
     "base_uri": "https://localhost:8080/",
     "height": 347
    },
    "colab_type": "code",
    "id": "V6RTxbvIKmT7",
    "outputId": "c8ea31cd-bb0c-475e-90df-c7480af9e39d"
   },
   "outputs": [
    {
     "name": "stderr",
     "output_type": "stream",
     "text": [
      "\n",
      "\n",
      "Epochs:   0%|          | 0/5 [00:00<?, ?it/s]\u001b[A\u001b[A\n",
      "\n",
      "Epochs:  20%|██        | 1/5 [02:53<11:35, 173.97s/it]\u001b[A\u001b[A"
     ]
    },
    {
     "name": "stdout",
     "output_type": "stream",
     "text": [
      "['train Loss: 0.8862 Acc: 0.7388', 'val Loss: 0.4878 Acc: 0.8585']\n"
     ]
    },
    {
     "name": "stderr",
     "output_type": "stream",
     "text": [
      "\n",
      "\n",
      "Epochs:  40%|████      | 2/5 [05:49<08:43, 174.48s/it]\u001b[A\u001b[A"
     ]
    },
    {
     "name": "stdout",
     "output_type": "stream",
     "text": [
      "['train Loss: 0.6342 Acc: 0.8142', 'val Loss: 0.5412 Acc: 0.8516']\n"
     ]
    },
    {
     "name": "stderr",
     "output_type": "stream",
     "text": [
      "\n",
      "\n",
      "Epochs:  60%|██████    | 3/5 [08:42<05:47, 173.92s/it]\u001b[A\u001b[A"
     ]
    },
    {
     "name": "stdout",
     "output_type": "stream",
     "text": [
      "['train Loss: 0.5577 Acc: 0.8353', 'val Loss: 0.5198 Acc: 0.8525']\n"
     ]
    },
    {
     "name": "stderr",
     "output_type": "stream",
     "text": [
      "\n",
      "\n",
      "Epochs:  80%|████████  | 4/5 [11:35<02:53, 173.77s/it]\u001b[A\u001b[A"
     ]
    },
    {
     "name": "stdout",
     "output_type": "stream",
     "text": [
      "['train Loss: 0.4902 Acc: 0.8515', 'val Loss: 3.4336 Acc: 0.8758']\n"
     ]
    },
    {
     "name": "stderr",
     "output_type": "stream",
     "text": [
      "\n",
      "\n",
      "Epochs: 100%|██████████| 5/5 [14:28<00:00, 173.51s/it]\u001b[A\u001b[A\n",
      "\n",
      "\u001b[A\u001b[A"
     ]
    },
    {
     "name": "stdout",
     "output_type": "stream",
     "text": [
      "['train Loss: 0.4300 Acc: 0.8677', 'val Loss: 17.7310 Acc: 0.8732']\n"
     ]
    }
   ],
   "source": [
    "train(model,data_loader , criterion, optimizer,sgdr_partial)"
   ]
  },
  {
   "cell_type": "code",
   "execution_count": 0,
   "metadata": {
    "colab": {
     "base_uri": "https://localhost:8080/",
     "height": 173
    },
    "colab_type": "code",
    "id": "lTHBhLIfLGMX",
    "outputId": "84fef072-8c2e-4118-d9b8-a605ed495502"
   },
   "outputs": [
    {
     "data": {
      "text/plain": [
       "Adam (\n",
       "Parameter Group 0\n",
       "    amsgrad: False\n",
       "    betas: (0.9, 0.999)\n",
       "    eps: 1e-08\n",
       "    initial_lr: 0.01\n",
       "    lr: 0.005477457514062632\n",
       "    weight_decay: 0\n",
       ")"
      ]
     },
     "execution_count": 33,
     "metadata": {
      "tags": []
     },
     "output_type": "execute_result"
    }
   ],
   "source": [
    "optimizer"
   ]
  },
  {
   "cell_type": "markdown",
   "metadata": {
    "colab_type": "text",
    "id": "Rek9McDgUw67"
   },
   "source": [
    "# Per Class Accuracy"
   ]
  },
  {
   "cell_type": "code",
   "execution_count": 0,
   "metadata": {
    "colab": {
     "base_uri": "https://localhost:8080/",
     "height": 208
    },
    "colab_type": "code",
    "id": "_9MthSe-aQ1g",
    "outputId": "ca07d44a-36db-4bb2-fbb8-b0957aabcdfa"
   },
   "outputs": [
    {
     "name": "stdout",
     "output_type": "stream",
     "text": [
      "AsianParadiseFlycatcher :- 95.2 %\n",
      "HimalayanMonal :- 78.9474 %\n",
      "IndianPitta :- 87.7193 %\n",
      "MrsGould’sSunbird :- 72.4771 %\n",
      "OrientalDwarfKingfisher :- 83.0189 %\n",
      "RedHeadedTrogon :- 79.8165 %\n",
      "SarusCrane :- 96.6102 %\n",
      "SatyrTragopan :- 87.6404 %\n",
      "parrot :- 92.4138 %\n",
      "peacock :- 92.6174 %\n",
      "total acc is 87.31665228645385%\n"
     ]
    }
   ],
   "source": [
    "\n",
    "def perClassAccuracy(model ,classes):\n",
    "  class_correct = np.zeros(len(classes) ,dtype =np.int64 )\n",
    "  class_total = np.zeros_like(class_correct,dtype =np.int64 )\n",
    "  model.eval()\n",
    "  \n",
    "  for data ,target in data_loader[\"val\"]:\n",
    "    data,target =data.to(device) , target.to(device)\n",
    "    with torch.set_grad_enabled(False):\n",
    "      output =model(data)\n",
    "      preds = torch.argmax(output,1)\n",
    "      for prediction , label in zip(preds , target.data):\n",
    "        if prediction == label:\n",
    "          class_correct[prediction]+=1\n",
    "        class_total[label]+=1\n",
    "  per = np.round((100*class_correct/class_total) ,4)\n",
    "  out = \"\\n\".join([f\"{name} :- {acc} %\" for name ,acc in zip(classes , per)])\n",
    "  return out+\"\\ntotal acc is {0}%\".format(100* sum(class_correct)/sum(class_total))\n",
    "\n",
    "print(perClassAccuracy(model , myDataset.classes))\n",
    "\n"
   ]
  },
  {
   "cell_type": "markdown",
   "metadata": {
    "colab_type": "text",
    "id": "m9bkTpFRVupg"
   },
   "source": [
    "# Visualizing the wrong prediction and where exactly model is confused Basically confusion matrix but I don't know how to do that so my new approach"
   ]
  },
  {
   "cell_type": "code",
   "execution_count": 0,
   "metadata": {
    "colab": {},
    "colab_type": "code",
    "id": "8Ym8fH7OSaD8"
   },
   "outputs": [],
   "source": [
    "def allwrong_prediction(classes ,model):\n",
    "  test_array =[]\n",
    "  model.eval()\n",
    "  for data ,target in data_loader[\"val\"]:\n",
    "    data,target =data.to(device) , target.to(device)\n",
    "    with torch.set_grad_enabled(False):\n",
    "      output =model(data)\n",
    "      preds = torch.argmax(output,1)\n",
    "      for prediction , label in zip(preds , target.data):\n",
    "        if prediction != label:\n",
    "            test_array.append([data ,classes[prediction] ,classes[label]])\n",
    "  return test_array\n",
    "\n",
    "s = allwrong_prediction(myDataset.classes , model)\n"
   ]
  },
  {
   "cell_type": "markdown",
   "metadata": {
    "colab_type": "text",
    "id": "eTnKpR4KaCZV"
   },
   "source": [
    "### Checking what and all wrong predictions model is making  by visualizing this graph it's very clear model is confused peacock"
   ]
  },
  {
   "cell_type": "code",
   "execution_count": 0,
   "metadata": {
    "colab": {
     "base_uri": "https://localhost:8080/",
     "height": 723
    },
    "colab_type": "code",
    "id": "l2Ssz5wJYLKW",
    "outputId": "8ffa34d5-7f19-408a-c6ca-a6b96ba252ac"
   },
   "outputs": [
    {
     "data": {
      "text/plain": [
       "<matplotlib.axes._subplots.AxesSubplot at 0x7f97bf7d1400>"
      ]
     },
     "execution_count": 36,
     "metadata": {
      "tags": []
     },
     "output_type": "execute_result"
    },
    {
     "data": {
      "image/png": "[encoded data removed]",
      "text/plain": [
       "<Figure size 1440x720 with 1 Axes>"
      ]
     },
     "metadata": {
      "tags": []
     },
     "output_type": "display_data"
    }
   ],
   "source": [
    "import pandas as pd\n",
    "s_d = [(y,z) for x ,y,z in s]\n",
    "df = pd.DataFrame(s_d)\n",
    "gr = df.groupby([0,1])\n",
    "gr.apply(len).unstack().plot(kind='bar', stacked=True, figsize=(20,10))\n"
   ]
  },
  {
   "cell_type": "markdown",
   "metadata": {
    "colab_type": "text",
    "id": "2mCel_rMafqQ"
   },
   "source": [
    "# Saving the Model\n",
    "\n"
   ]
  },
  {
   "cell_type": "markdown",
   "metadata": {
    "colab_type": "text",
    "id": "NRkacNVIaf0d"
   },
   "source": [
    "When it comes to saving and loading models, there are three core functions to be familiar with:\n",
    "\n",
    "    1. torch.save: Saves a serialized object to disk. This function uses Python’s pickle utility for serialization. Models, tensors, and dictionaries of all kinds of objects can be saved using this function.\n",
    "    \n",
    "    2. torch.load: Uses pickle’s unpickling facilities to deserialize pickled object files to memory. This function also facilitates the device to load the data into (see Saving & Loading Model Across Devices).\n",
    "    \n",
    "    3. torch.nn.Module.load_state_dict: Loads a model’s parameter dictionary using a deserialized state_dict. For more information on state_dict, see What is a state_dict?.\n",
    "\n",
    "There are many ways to save the model but we are gonna see the most recommended and safe here we are going to save the model parameters and while loading just load the weights\n",
    "\n",
    "### Saving & Loading a General Checkpoint for Inference and/or Resuming Training"
   ]
  },
  {
   "cell_type": "code",
   "execution_count": 0,
   "metadata": {
    "colab": {},
    "colab_type": "code",
    "id": "uvwZHbbHafxz"
   },
   "outputs": [],
   "source": [
    "# Save:\n",
    "def createCheckpoint(filename=Path(\"./LatestCheckpoint.pt\")):\n",
    "  checkpoint = {\n",
    "              'epoch': 5,\n",
    "              'model_state_dict': model.state_dict(),\n",
    "              'optimizer_state_dict': optimizer.state_dict(),\n",
    "              \"batch_size\":batch_size,\n",
    "  } # save all important stuff\n",
    "  torch.save(checkpoint , filename)\n",
    "createCheckpoint()\n"
   ]
  },
  {
   "cell_type": "code",
   "execution_count": 0,
   "metadata": {
    "colab": {
     "base_uri": "https://localhost:8080/",
     "height": 173
    },
    "colab_type": "code",
    "id": "Phl_6nIuafuv",
    "outputId": "d0e72ee4-b278-4c35-b9ee-013757143d1f"
   },
   "outputs": [
    {
     "data": {
      "text/plain": [
       "Adam (\n",
       "Parameter Group 0\n",
       "    amsgrad: False\n",
       "    betas: (0.9, 0.999)\n",
       "    eps: 1e-08\n",
       "    initial_lr: 0.01\n",
       "    lr: 0.005477457514062632\n",
       "    weight_decay: 0\n",
       ")"
      ]
     },
     "execution_count": 282,
     "metadata": {
      "tags": []
     },
     "output_type": "execute_result"
    }
   ],
   "source": [
    "# Load\n",
    "'''\n",
    "First Intialize the model and then just load it\n",
    "model = TheModelClass(*args, **kwargs)\n",
    "optimizer = TheOptimizerClass(*args, **kwargs)\n",
    "\n",
    "'''\n",
    "\n",
    "checkpoint = torch.load(Path(\"./LatestCheckpoint.pt\"))\n",
    "model.load_state_dict(checkpoint['model_state_dict'])\n",
    "optimizer.load_state_dict(checkpoint['optimizer_state_dict'])\n",
    "epoch = checkpoint['epoch']\n",
    "batch_size = checkpoint['batch_size']\n",
    "\n",
    "model.eval() ## or model.train()\n",
    "optimizer"
   ]
  },
  {
   "cell_type": "markdown",
   "metadata": {
    "colab_type": "text",
    "id": "1lVSjAQ3afm7"
   },
   "source": [
    "When saving a general checkpoint, to be used for either inference or resuming training, you must save more than just the model’s state_dict. It is important to also save the optimizer’s state_dict, as this contains buffers and parameters that are updated as the model trains. Other items that you may want to save are the epoch you left off on, the latest recorded training loss, external torch.nn.Embedding layers, etc.\n",
    "\n",
    "To save multiple components, organize them in a dictionary and use torch.save() to serialize the dictionary. A common PyTorch convention is to save these checkpoints using the .tar file extension.\n",
    "\n",
    "To load the items, first initialize the model and optimizer, then load the dictionary locally using torch.load(). From here, you can easily access the saved items by simply querying the dictionary as you would expect.\n",
    "\n",
    "Remember that you must call model.eval() to set dropout and batch normalization layers to evaluation mode before running inference. Failing to do this will yield inconsistent inference results. If you wish to resuming training, call model.train() to ensure these layers are in training mode."
   ]
  },
  {
   "cell_type": "code",
   "execution_count": 0,
   "metadata": {
    "colab": {
     "base_uri": "https://localhost:8080/",
     "height": 124
    },
    "colab_type": "code",
    "id": "I8-D7AYHCP0m",
    "outputId": "4f55d3fb-97da-4bc6-862c-f568248eedfa"
   },
   "outputs": [
    {
     "name": "stdout",
     "output_type": "stream",
     "text": [
      "Go to this URL in a browser: https://accounts.google.com/o/oauth2/auth?client_id=947318989803-6bn6qk8qdgf4n4g3pfee6491hc0brc4i.apps.googleusercontent.com&redirect_uri=urn%3Aietf%3Awg%3Aoauth%3A2.0%3Aoob&scope=email%20https%3A%2F%2Fwww.googleapis.com%2Fauth%2Fdocs.test%20https%3A%2F%2Fwww.googleapis.com%2Fauth%2Fdrive%20https%3A%2F%2Fwww.googleapis.com%2Fauth%2Fdrive.photos.readonly%20https%3A%2F%2Fwww.googleapis.com%2Fauth%2Fpeopleapi.readonly&response_type=code\n",
      "\n",
      "Enter your authorization code:\n",
      "··········\n",
      "Mounted at /content/gdrive\n"
     ]
    }
   ],
   "source": [
    "# save the checkpoint to gdrive\n",
    "from google.colab import drive\n",
    "drive.mount('/content/gdrive')\n",
    "!cp LatestCheckpoint.pt ./gdrive/My\\ Drive/\n",
    "#!cp  ./gdrive/My\\ Drive/LatestCheckpoint.pt ."
   ]
  },
  {
   "cell_type": "markdown",
   "metadata": {
    "colab_type": "text",
    "id": "HIAOsFZWJQy0"
   },
   "source": [
    "# LrFinder and One Cycle Policy\n",
    "\n",
    "### Now that our model is giving 88.68 % accuracy let's finetune the model\n",
    "So we train the model in two steps\n",
    "1. First we unfreeze half of the network and use lr finder algo to find optimum lr and then use once cycle policy to train\n",
    "2. unfreeze the entire network and then use lr finder algo to find optimum lr and then use once cycle policy to train.\n",
    "\n",
    "## Let's see how much better we can do with model"
   ]
  },
  {
   "cell_type": "code",
   "execution_count": 0,
   "metadata": {
    "colab": {},
    "colab_type": "code",
    "id": "wfoFtmRYW2I-"
   },
   "outputs": [],
   "source": [
    "def unfreeze(model,percent=0.25):\n",
    "  l = int(np.ceil(len(model._modules.keys())* percent))\n",
    "  l = list(model._modules.keys())[-l:]\n",
    "  print(f\"unfreezing these layer {l}\",)\n",
    "  for name in l:\n",
    "    for params in model._modules[name].parameters():\n",
    "      params.requires_grad_(True)\n",
    "\n",
    "def check_freeze(model):\n",
    "  for name ,layer in model._modules.items():\n",
    "    s = []\n",
    "    for l in layer.parameters():\n",
    "      s.append(l.requires_grad)\n",
    "    print(name ,all(s))\n"
   ]
  },
  {
   "cell_type": "code",
   "execution_count": 0,
   "metadata": {
    "colab": {
     "base_uri": "https://localhost:8080/",
     "height": 208
    },
    "colab_type": "code",
    "id": "fFy3uWjM6FI8",
    "outputId": "7355605e-bc37-49e7-ce2e-c4007a5c96e9"
   },
   "outputs": [
    {
     "name": "stdout",
     "output_type": "stream",
     "text": [
      "unfreezing these layer ['layer3', 'layer4', 'avgpool', 'fc']\n",
      "conv1 False\n",
      "bn1 False\n",
      "relu True\n",
      "maxpool True\n",
      "layer1 False\n",
      "layer2 False\n",
      "layer3 True\n",
      "layer4 True\n",
      "avgpool True\n",
      "fc True\n"
     ]
    }
   ],
   "source": [
    "# unfreeze half of the model\n",
    "unfreeze(model ,0.40)\n",
    "# check which layer is freezed or not\n",
    "check_freeze(model)"
   ]
  },
  {
   "cell_type": "markdown",
   "metadata": {
    "colab_type": "text",
    "id": "ks3h5IupjSRp"
   },
   "source": [
    "## Learning Rate Finder\n",
    " Basically in simple terms learning rate finder starts the lr from base lr which is usally a small value , eventually increasing lr using some anneal function.\n",
    " \n",
    " Different type of anneal functions are \n",
    " 1. Linear\n",
    " 2. Exponential\n",
    " 3. Cosine\n",
    " \n",
    "For example :- suppose base lr is 0.001 and max lr is 5 and no of iteration is 20 \n",
    " $$\n",
    " no\\ of\\ iteration = \\frac{training\\ data}{batch\\ size}\n",
    " $$\n",
    " \n",
    " Then basically annneal function helps the lr to go from base lr to max lr in steps and thus generating a loss graph which after visualizing we have to pick the lr from the graph where loss just start decreasing.\n",
    " \n",
    " we in this notebook will implement Linear and exponential annealing function."
   ]
  },
  {
   "cell_type": "code",
   "execution_count": 0,
   "metadata": {
    "colab": {},
    "colab_type": "code",
    "id": "_eHHQnTzxe_D"
   },
   "outputs": [],
   "source": [
    "class LinearScheduler(lr_scheduler._LRScheduler):\n",
    "    \"\"\"Linearly increases the learning rate between two boundaries over a number of iterations.\"\"\"\n",
    "    def __init__(self, optimizer, end_lr, num_iter):\n",
    "        self.end_lr = end_lr\n",
    "        self.num_iter = num_iter\n",
    "        super(LinearScheduler,self).__init__(optimizer)\n",
    "\n",
    "    def get_lr(self):\n",
    "        # increement one by one\n",
    "        curr_iter = self.last_epoch + 1\n",
    "        # get the ratio\n",
    "        pct = curr_iter / self.num_iter\n",
    "        # calculate lr with this formulae start + pct * (end-start)\n",
    "        return [base_lr + pct * (self.end_lr - base_lr) for base_lr in self.base_lrs]\n",
    "\n",
    "\n",
    "class ExponentialScheduler(lr_scheduler._LRScheduler):\n",
    "    \"\"\"Exponentially increases the learning rate between two boundaries over a number of iterations.\"\"\"\n",
    "\n",
    "    def __init__(self, optimizer, end_lr, num_iter, last_epoch=-1):\n",
    "        self.end_lr = end_lr\n",
    "        self.num_iter = num_iter\n",
    "        super(ExponentialScheduler,self).__init__(optimizer)\n",
    "\n",
    "    def get_lr(self):\n",
    "        curr_iter = self.last_epoch + 1\n",
    "        pct = curr_iter / self.num_iter\n",
    "        return [base_lr * (self.end_lr / base_lr) ** pct for base_lr in self.base_lrs]\n",
    "      \n",
    "class CosineScheduler(lr_scheduler._LRScheduler):\n",
    "    \"\"\"Cosine increases the learning rate between two boundaries over a number of iterations.\"\"\"\n",
    "\n",
    "    def __init__(self, optimizer, end_lr, num_iter, last_epoch=-1):\n",
    "        self.end_lr = end_lr\n",
    "        self.num_iter = num_iter\n",
    "        super(CosineScheduler,self).__init__(optimizer)\n",
    "\n",
    "    def get_lr(self):\n",
    "        curr_iter = self.last_epoch + 1\n",
    "        pct = curr_iter / self.num_iter\n",
    "        cos_out = np.cos(np.pi * pct) + 1\n",
    "        return [self.end_lr + (base_lr - self.end_lr )/2 *cos_out for base_lr in self.base_lrs]"
   ]
  },
  {
   "cell_type": "code",
   "execution_count": 0,
   "metadata": {
    "colab": {},
    "colab_type": "code",
    "id": "BQwBWKs0CaRm"
   },
   "outputs": [],
   "source": [
    "class LRFinder:\n",
    "  \n",
    "  def __init__(self, model  , optimizer , criterion ,start_lr=1e-7, device=None):\n",
    "    \n",
    "    self.model = model\n",
    "    # Move the model to the proper device\n",
    "    self.optimizer = optimizer\n",
    "    self.criterion = criterion\n",
    "    \n",
    "    ## save the model intial dict\n",
    "    self.save_file = Path(\"tmpfile\")\n",
    "    torch.save(self.model , self.save_file)    \n",
    "    if device is None:\n",
    "      self.device = next(model.parameters()).device\n",
    "    else:\n",
    "      self.device = device\n",
    "    self.model.to(self.device)\n",
    "    \n",
    "    self.history = {\"lr\":[] , \"losses\":[]}\n",
    "    for l in self.optimizer.param_groups:\n",
    "      l[\"initial_lr\"]=start_lr\n",
    "    \n",
    "    \n",
    "  def reset(self):\n",
    "    \"\"\" Resets the model to intial state \"\"\"\n",
    "    self.model = torch.load(self.save_file)\n",
    "    self.model.train()\n",
    "    self.save_file.unlink()\n",
    "    return self.model\n",
    "    \n",
    "  def calculateSmmothingValue(self ,beta):\n",
    "    n ,mov_avg=0,0\n",
    "    while True :\n",
    "      n+=1\n",
    "      value = yield\n",
    "      mov_avg = beta*mov_avg +(1-beta)*value\n",
    "      smooth = mov_avg / (1 - beta **n )\n",
    "      yield smooth\n",
    "    \n",
    "  def lrfind(self, trainLoader,end_lr=10,num_iter=150,step_mode=\"exp\", loss_smoothing_beta=0.99, diverge_th=5): \n",
    "        \"\"\"\n",
    "         Performs the lrfind test\n",
    "\n",
    "         Arguments:\n",
    "            trainLoader : The data loader\n",
    "            end_lr :  The maximum lr\n",
    "            num_iter : Max iteratiom\n",
    "            step_mode : The anneal function by default `exp` but can be either `linear` or `cos`\n",
    "            smooth_f : The loss smoothing factor, value should be between [0 , 1[\n",
    "            diverge_th: The max loss value after which training should be stooped\n",
    "        \"\"\"\n",
    "              # Reset test results\n",
    "        self.history = {\"lr\": [], \"losses\": []}\n",
    "        self.best_loss = None\n",
    "        self.smoothner = self.calculateSmmothingValue(loss_smoothing_beta)\n",
    "        \n",
    "        if step_mode.lower()==\"exp\":\n",
    "          lr_schedule = ExponentialScheduler(self.optimizer , end_lr  , num_iter,)\n",
    "        elif step_mode.lower()==\"cos\":\n",
    "          lr_schedule = CosineScheduler(self.optimizer , end_lr  , num_iter)\n",
    "        elif step.mode.lower()==\"linear\":\n",
    "          lr_schedule = LinearScheduler(self.optimizer , end_lr  , num_iter)\n",
    "        else:\n",
    "          raise ValueError(f\"expected mode is either {exp , cos ,linear} got {step_mode}\")\n",
    "        \n",
    "        if 0 < loss_smoothing_beta >=1:\n",
    "          raise ValueError(\"smooth_f is outside the range [0, 1[\")\n",
    "        \n",
    "        iterator = iter(trainLoader)\n",
    "        for each_iter in range(num_iter):\n",
    "          try:\n",
    "            data , target = next(iterator)\n",
    "          except StopIteration:\n",
    "            iterator = iter(trainLoader)\n",
    "            data , target = next(iterator)\n",
    "         \n",
    "          loss = self._train_batch(data , target)\n",
    "          \n",
    "          # Update the learning rate\n",
    "          lr_schedule.step()\n",
    "          self.history[\"lr\"].append(lr_schedule.get_lr()[0])\n",
    "          # Track the best loss and smooth it if smooth_f is specified\n",
    "          if each_iter == 0:\n",
    "              self.best_loss = loss\n",
    "          else:\n",
    "              next(self.smoothner)\n",
    "              self.best_loss = self.smoothner.send(loss)\n",
    "              if loss < self.best_loss:\n",
    "                  self.best_loss = loss\n",
    "\n",
    "          # Check if the loss has diverged; if it has, stop the test\n",
    "          self.history[\"losses\"].append(loss)\n",
    "          if loss > diverge_th * self.best_loss:\n",
    "              print(\"Stopping early, the loss has diverged\")\n",
    "              break\n",
    "\n",
    "        print(\"Learning rate search finished. See the graph with {finder_name}.plot()\")            \n",
    "  \n",
    "  def _train_batch(self,data,target):\n",
    "    # set to training mode\n",
    "    self.model.train()\n",
    "    #load data to device\n",
    "    data ,target = data.to(self.device) ,target.to(self.device)\n",
    "    \n",
    "    #forward pass\n",
    "    self.optimizer.zero_grad()\n",
    "    output = self.model(data)\n",
    "    loss = self.criterion(output,target)\n",
    "    \n",
    "    #backward pass\n",
    "    loss.backward()\n",
    "    self.optimizer.step()\n",
    "    return loss.item()\n",
    "  \n",
    "  def plot(self):\n",
    "    losses = self.history[\"losses\"]\n",
    "    lr = self.history[\"lr\"]\n",
    "    plt.semilogx(lr,losses)\n",
    "    plt.xlabel(\"Learning rate\")\n",
    "    plt.ylabel(\"Losses \")\n",
    "    "
   ]
  },
  {
   "cell_type": "code",
   "execution_count": 0,
   "metadata": {
    "colab": {
     "base_uri": "https://localhost:8080/",
     "height": 52
    },
    "colab_type": "code",
    "id": "2XJPqcmzgTNM",
    "outputId": "68d8cb35-7476-4cfa-e027-050fa15dee02"
   },
   "outputs": [
    {
     "name": "stdout",
     "output_type": "stream",
     "text": [
      "Stopping early, the loss has diverged\n",
      "Learning rate search finished. See the graph with {finder_name}.plot()\n"
     ]
    }
   ],
   "source": [
    "lr_finder = LRFinder(model, optimizer, criterion, device=device)\n",
    "lr_finder.lrfind(data_loader[\"train\"], end_lr=10, step_mode=\"exp\")"
   ]
  },
  {
   "cell_type": "code",
   "execution_count": 0,
   "metadata": {
    "colab": {
     "base_uri": "https://localhost:8080/",
     "height": 365
    },
    "colab_type": "code",
    "id": "ooVHCEJUgwIn",
    "outputId": "163596df-c2e4-4824-f9d1-e3817adc42ec"
   },
   "outputs": [
    {
     "data": {
      "image/png": "[encoded data removed]",
      "text/plain": [
       "<Figure size 576x396 with 1 Axes>"
      ]
     },
     "metadata": {
      "tags": []
     },
     "output_type": "display_data"
    }
   ],
   "source": [
    "lr_finder.plot()"
   ]
  },
  {
   "cell_type": "code",
   "execution_count": 0,
   "metadata": {
    "colab": {},
    "colab_type": "code",
    "id": "kfGe5SJlgwQ8"
   },
   "outputs": [],
   "source": [
    "model= lr_finder.reset()"
   ]
  },
  {
   "cell_type": "markdown",
   "metadata": {
    "colab_type": "text",
    "id": "N_5ZVA93CpVv"
   },
   "source": [
    "## [One Cycle Policy](https://sgugger.github.io/the-1cycle-policy.html)\n",
    "one cycle policy is a technique in which the training process in divided into two section in first half the momentum is decreased and lr is increased and in other section we do the vice- versa\n",
    "\n",
    "While using Adam we use beta1 property as momentum\n",
    "\n",
    "But still there is this big question why one cycle policy .\n",
    "1. This techniques helps model to converge faster.\n",
    "2. Helps to take the model out of saddle point\n",
    "3. Helps to stablilize the model by taking it out from local minima or sharp global minima instead getting the model into more flat surface on that curve.\n",
    "\n",
    "![](https://sgugger.github.io/images/art5_full_schedule.png)\n",
    "\n",
    "This times let's see another approach of modifying lr and momentum"
   ]
  },
  {
   "cell_type": "code",
   "execution_count": 0,
   "metadata": {
    "colab": {},
    "colab_type": "code",
    "id": "Qgar8cBUBYJN"
   },
   "outputs": [],
   "source": [
    "class Stepper():\n",
    "    \"Used to \\\"step\\\" from start,end (`vals`) over `n_iter` iterations on a schedule defined by `func`\"\n",
    "    \n",
    "    def __init__(self, val, n_iter:int, func):\n",
    "        self.start,self.end = val\n",
    "        self.n_iter = max(1,n_iter)\n",
    "        self.func = func\n",
    "        self.n = 0\n",
    "\n",
    "    def step(self):\n",
    "        \"Return next value along annealed schedule.\"\n",
    "        self.n += 1\n",
    "        return self.func(self.start, self.end, self.n/self.n_iter)\n",
    "\n",
    "    @property\n",
    "    def is_done(self):\n",
    "        \"Return `True` if schedule completed.\"\n",
    "        return self.n >= self.n_iter\n",
    "    \n",
    "# Annealing functions\n",
    "def annealing_no(start, end, pct):\n",
    "    \"No annealing, always return `start`.\"\n",
    "    return start\n",
    "  \n",
    "def annealing_linear(start, end, pct):\n",
    "    \"Linearly anneal from `start` to `end` as pct goes from 0.0 to 1.0.\"\n",
    "    return start + pct * (end-start)\n",
    "  \n",
    "def annealing_exp(start, end, pct):\n",
    "    \"Exponentially anneal from `start` to `end` as pct goes from 0.0 to 1.0.\"\n",
    "    return start * (end/start) ** pct\n",
    "\n",
    "def annealing_cos(start, end, pct):\n",
    "    \"Cosine anneal from `start` to `end` as pct goes from 0.0 to 1.0.\"\n",
    "    cos_out = np.cos(np.pi * pct) + 1\n",
    "    return end + (start-end)/2 * cos_out"
   ]
  },
  {
   "cell_type": "code",
   "execution_count": 0,
   "metadata": {
    "colab": {},
    "colab_type": "code",
    "id": "lAgyAWG07XpO"
   },
   "outputs": [],
   "source": [
    "\n",
    "class OneCyclePolicy:\n",
    "  \n",
    "  def __init__(self,model , optimizer , criterion ,num_iteration,num_epochs,max_lr, momentum = (0.95,0.85) , div_factor=25 , pct_start=0.4, device=None ):\n",
    "    \n",
    "    self.model =model\n",
    "    self.optimizer = optimizer\n",
    "    self.criterion = criterion\n",
    "    self.num_epochs = num_epochs\n",
    "    if device is None:\n",
    "      self.device = next(model.parameters()).device\n",
    "    else:\n",
    "      self.device = device\n",
    "      \n",
    "    n = num_iteration * self.num_epochs\n",
    "    a1 = int(n*pct_start)\n",
    "    a2 = n-a1\n",
    "    self.phases = ((a1 , annealing_linear) , (a2 , annealing_cos))\n",
    "    min_lr = max_lr/div_factor\n",
    "    self.lr_scheds = self.steps((min_lr,max_lr) , (max_lr,min_lr/1e4))\n",
    "    self.mom_scheds =self.steps(momentum , momentum[::-1])\n",
    "    self.idx_s = 0\n",
    "    self.update_lr_mom(self.lr_scheds[0].start,self.mom_scheds[0].start)\n",
    "  \n",
    "  def steps(self, *steps):\n",
    "      \"Build anneal schedule for all of the parameters.\"\n",
    "      return [Stepper(step, n_iter, func=func)for (step,(n_iter,func)) in zip(steps, self.phases)]\n",
    "\n",
    "  def train(self, trainLoader , validLoader ):\n",
    "    self.model.to(self.device)\n",
    "    data_loader = {\"train\":trainLoader , \"val\":validLoader}\n",
    "    for epoch in tqdm(range(self.num_epochs),desc=\"Epochs\"):\n",
    "      result = []\n",
    "      for phase in ['train', 'val']:\n",
    "        if phase==\"train\":     # put the model in training mode\n",
    "          model.train()\n",
    "        else:     # put the model in validation mode\n",
    "          model.eval()\n",
    "\n",
    "        # keep track of training and validation loss\n",
    "        running_loss = 0.0\n",
    "        running_corrects = 0  \n",
    "\n",
    "        for data , target in data_loader[phase]:\n",
    "          #load the data and target to respective device\n",
    "          data , target = data.to(device)  , target.to(device)\n",
    "\n",
    "          with torch.set_grad_enabled(phase==\"train\"):\n",
    "            #feed the input\n",
    "            output = self.model(data)\n",
    "            #calculate the loss\n",
    "            loss = self.criterion(output,target)\n",
    "            preds = torch.argmax(output,1)\n",
    "\n",
    "            if phase==\"train\"  :\n",
    "              # backward pass: compute gradient of the loss with respect to model parameters \n",
    "              loss.backward()\n",
    "              # update the model parameters\n",
    "              self.optimizer.step()\n",
    "              # zero the grad to stop it from accumulating\n",
    "              self.optimizer.zero_grad()\n",
    "            \n",
    "              self.update_lr_mom(self.lr_scheds[self.idx_s].step() ,self.mom_scheds[self.idx_s].step() )\n",
    "\n",
    "              if self.lr_scheds[self.idx_s].is_done:\n",
    "                self.idx_s += 1\n",
    "          \n",
    "          # statistics\n",
    "          running_loss += loss.item() * data.size(0)\n",
    "          running_corrects += torch.sum(preds == target.data).item()\n",
    "\n",
    "\n",
    "        epoch_loss = running_loss / len(data_loader[phase].dataset)\n",
    "        epoch_acc = running_corrects/ len(data_loader[phase].dataset)\n",
    "\n",
    "        result.append('{} Loss: {:.4f} Acc: {:.4f}'.format(phase, epoch_loss, epoch_acc))\n",
    "      print(result)\n",
    "\n",
    "  def update_lr_mom(self,lr=0.001,mom=0.99):\n",
    "    for l in self.optimizer.param_groups:\n",
    "      l[\"lr\"]=lr\n",
    "      if isinstance(self.optimizer , ( torch.optim.Adamax,torch.optim.Adam)):\n",
    "          l[\"betas\"] = ( mom, 0.999)\n",
    "      elif isinstance(self.optimizer, torch.optim.SGD):\n",
    "          l[\"momentum\"] =mom\n"
   ]
  },
  {
   "cell_type": "code",
   "execution_count": 0,
   "metadata": {
    "colab": {
     "base_uri": "https://localhost:8080/",
     "height": 2066
    },
    "colab_type": "code",
    "id": "xoIHaT8t7YDh",
    "outputId": "3d780391-5b7f-43ff-b145-95bcf311d2ad"
   },
   "outputs": [
    {
     "name": "stderr",
     "output_type": "stream",
     "text": [
      "\n",
      "\n",
      "\n",
      "\n",
      "\n",
      "\n",
      "\n",
      "\n",
      "\n",
      "\n",
      "\n",
      "Epochs:   0%|          | 0/8 [00:00<?, ?it/s]\u001b[A\u001b[A\u001b[A\u001b[A\u001b[A\u001b[A\u001b[A\u001b[A\u001b[A\u001b[A\u001b[A\n",
      "\n",
      "\n",
      "\n",
      "\n",
      "\n",
      "\n",
      "\n",
      "\n",
      "\n",
      "\n",
      "Epochs:  12%|█▎        | 1/8 [03:30<24:32, 210.30s/it]\u001b[A\u001b[A\u001b[A\u001b[A\u001b[A\u001b[A\u001b[A\u001b[A\u001b[A\u001b[A\u001b[A"
     ]
    },
    {
     "name": "stdout",
     "output_type": "stream",
     "text": [
      "['train Loss: 0.4062 Acc: 0.8746', 'val Loss: 24.9641 Acc: 0.9077']\n"
     ]
    },
    {
     "name": "stderr",
     "output_type": "stream",
     "text": [
      "\n",
      "\n",
      "\n",
      "\n",
      "\n",
      "\n",
      "\n",
      "\n",
      "\n",
      "\n",
      "\n",
      "Epochs:  25%|██▌       | 2/8 [07:00<21:01, 210.30s/it]\u001b[A\u001b[A\u001b[A\u001b[A\u001b[A\u001b[A\u001b[A\u001b[A\u001b[A\u001b[A\u001b[A"
     ]
    },
    {
     "name": "stdout",
     "output_type": "stream",
     "text": [
      "['train Loss: 0.4100 Acc: 0.8703', 'val Loss: 23.3653 Acc: 0.9042']\n"
     ]
    },
    {
     "name": "stderr",
     "output_type": "stream",
     "text": [
      "\n",
      "\n",
      "\n",
      "\n",
      "\n",
      "\n",
      "\n",
      "\n",
      "\n",
      "\n",
      "\n",
      "Epochs:  38%|███▊      | 3/8 [10:29<17:29, 209.81s/it]\u001b[A\u001b[A\u001b[A\u001b[A\u001b[A\u001b[A\u001b[A\u001b[A\u001b[A\u001b[A\u001b[A"
     ]
    },
    {
     "name": "stdout",
     "output_type": "stream",
     "text": [
      "['train Loss: 0.3954 Acc: 0.8791', 'val Loss: 14.7473 Acc: 0.9077']\n"
     ]
    },
    {
     "name": "stderr",
     "output_type": "stream",
     "text": [
      "\n",
      "\n",
      "\n",
      "\n",
      "\n",
      "\n",
      "\n",
      "\n",
      "\n",
      "\n",
      "\n",
      "Epochs:  50%|█████     | 4/8 [13:57<13:57, 209.48s/it]\u001b[A\u001b[A\u001b[A\u001b[A\u001b[A\u001b[A\u001b[A\u001b[A\u001b[A\u001b[A\u001b[A"
     ]
    },
    {
     "name": "stdout",
     "output_type": "stream",
     "text": [
      "['train Loss: 0.3990 Acc: 0.8756', 'val Loss: 21.8700 Acc: 0.9094']\n"
     ]
    },
    {
     "name": "stderr",
     "output_type": "stream",
     "text": [
      "\n",
      "\n",
      "\n",
      "\n",
      "\n",
      "\n",
      "\n",
      "\n",
      "\n",
      "\n",
      "\n",
      "Epochs:  62%|██████▎   | 5/8 [17:27<10:28, 209.39s/it]\u001b[A\u001b[A\u001b[A\u001b[A\u001b[A\u001b[A\u001b[A\u001b[A\u001b[A\u001b[A\u001b[A"
     ]
    },
    {
     "name": "stdout",
     "output_type": "stream",
     "text": [
      "['train Loss: 0.4174 Acc: 0.8705', 'val Loss: 16.5780 Acc: 0.9060']\n"
     ]
    },
    {
     "name": "stderr",
     "output_type": "stream",
     "text": [
      "\n",
      "\n",
      "\n",
      "\n",
      "\n",
      "\n",
      "\n",
      "\n",
      "\n",
      "\n",
      "\n",
      "Epochs:  75%|███████▌  | 6/8 [20:56<06:58, 209.41s/it]\u001b[A\u001b[A\u001b[A\u001b[A\u001b[A\u001b[A\u001b[A\u001b[A\u001b[A\u001b[A\u001b[A"
     ]
    },
    {
     "name": "stdout",
     "output_type": "stream",
     "text": [
      "['train Loss: 0.4087 Acc: 0.8776', 'val Loss: 12.5129 Acc: 0.8991']\n"
     ]
    },
    {
     "name": "stderr",
     "output_type": "stream",
     "text": [
      "\n",
      "\n",
      "\n",
      "\n",
      "\n",
      "\n",
      "\n",
      "\n",
      "\n",
      "\n",
      "\n",
      "Epochs:  88%|████████▊ | 7/8 [24:26<03:29, 209.41s/it]\u001b[A\u001b[A\u001b[A\u001b[A\u001b[A\u001b[A\u001b[A\u001b[A\u001b[A\u001b[A\u001b[A"
     ]
    },
    {
     "name": "stdout",
     "output_type": "stream",
     "text": [
      "['train Loss: 0.3968 Acc: 0.8825', 'val Loss: 13.0004 Acc: 0.9034']\n"
     ]
    },
    {
     "name": "stderr",
     "output_type": "stream",
     "text": [
      "\n",
      "\n",
      "\n",
      "\n",
      "\n",
      "\n",
      "\n",
      "\n",
      "\n",
      "\n",
      "\n",
      "Epochs: 100%|██████████| 8/8 [27:54<00:00, 209.05s/it]\u001b[A\u001b[A\u001b[A\u001b[A\u001b[A\u001b[A\u001b[A\u001b[A\u001b[A\u001b[A\u001b[A\n",
      "\n",
      "\n",
      "\n",
      "\n",
      "\n",
      "\n",
      "\n",
      "\n",
      "\n",
      "\n",
      "\u001b[A\u001b[A\u001b[A\u001b[A\u001b[A\u001b[A\u001b[A\u001b[A\u001b[A\u001b[A\u001b[A"
     ]
    },
    {
     "name": "stdout",
     "output_type": "stream",
     "text": [
      "['train Loss: 0.4017 Acc: 0.8802', 'val Loss: 26.7215 Acc: 0.9060']\n"
     ]
    }
   ],
   "source": [
    "fit_one_cycle = OneCyclePolicy(model ,optimizer , criterion,num_iteration=145  , num_epochs =8 , max_lr =1e-4 ,device=device)\n",
    "fit_one_cycle.train(trainLoader,testLoader)"
   ]
  },
  {
   "cell_type": "code",
   "execution_count": 0,
   "metadata": {
    "colab": {
     "base_uri": "https://localhost:8080/",
     "height": 208
    },
    "colab_type": "code",
    "id": "B-MbABoJjVDB",
    "outputId": "ce8d3631-fda0-4ec0-88a3-9ec14bcfd1a0"
   },
   "outputs": [
    {
     "name": "stdout",
     "output_type": "stream",
     "text": [
      "AsianParadiseFlycatcher :- 92.623 %\n",
      "HimalayanMonal :- 88.2353 %\n",
      "IndianPitta :- 87.1795 %\n",
      "MrsGould’sSunbird :- 82.6446 %\n",
      "OrientalDwarfKingfisher :- 85.567 %\n",
      "RedHeadedTrogon :- 88.2353 %\n",
      "SarusCrane :- 98.1651 %\n",
      "SatyrTragopan :- 89.4737 %\n",
      "parrot :- 95.0 %\n",
      "peacock :- 94.7712 %\n",
      "total acc is 90.595340811044%\n"
     ]
    }
   ],
   "source": [
    "print(perClassAccuracy(model , myDataset.classes))"
   ]
  },
  {
   "cell_type": "code",
   "execution_count": 0,
   "metadata": {
    "colab": {},
    "colab_type": "code",
    "id": "RLhIDyk8kBmD"
   },
   "outputs": [],
   "source": [
    "createCheckpoint(filename=Path(\"./latestCheckpoint90_59\"))"
   ]
  },
  {
   "cell_type": "code",
   "execution_count": 0,
   "metadata": {
    "colab": {},
    "colab_type": "code",
    "id": "f1J9kc1tktI4"
   },
   "outputs": [],
   "source": [
    "!cp latestCheckpoint90_59 gdrive/My\\ Drive/"
   ]
  },
  {
   "cell_type": "code",
   "execution_count": 0,
   "metadata": {
    "colab": {
     "base_uri": "https://localhost:8080/",
     "height": 52
    },
    "colab_type": "code",
    "id": "bOrmcapqk4T8",
    "outputId": "c611d28c-bf95-4a7c-cda1-fb7c42ee1419"
   },
   "outputs": [
    {
     "name": "stdout",
     "output_type": "stream",
     "text": [
      "Birds\t   gdrive\t\t  LatestCheckpoint.pt  train\n",
      "Birds.zip  latestCheckpoint90_59  sample_data\n"
     ]
    }
   ],
   "source": []
  },
  {
   "cell_type": "markdown",
   "metadata": {
    "colab_type": "text",
    "id": "y2zOz1_PmR71"
   },
   "source": [
    "## So after getting 90 accuracy the model can be finetunned more and we stopped here because this the accuracy I obtained using Fast.ai v1 library\n",
    "1. By unfreezing more layers and training them\n",
    "2. By performing Data Augmentation\n",
    "\n"
   ]
  },
  {
   "cell_type": "markdown",
   "metadata": {
    "colab_type": "text",
    "id": "lHr-4E238nXW"
   },
   "source": [
    "# Additional Resources\n",
    "\n",
    "https://cs231n.github.io/transfer-learning/\n",
    "\n",
    "https://pytorch.org/tutorials/beginner/saving_loading_models.html\n",
    "\n",
    "https://pytorch.org/docs/stable/torchvision/index.html\n",
    "\n",
    "https://pytorch.org/docs/stable/optim.html"
   ]
  },
  {
   "cell_type": "code",
   "execution_count": 0,
   "metadata": {
    "colab": {},
    "colab_type": "code",
    "id": "jT0FW-N4mKrw"
   },
   "outputs": [],
   "source": []
  },
  {
   "cell_type": "markdown",
   "metadata": {
    "colab_type": "text",
    "id": "BjJc2jGigKcd"
   },
   "source": [
    "# Assignment \n",
    " # Improve model to 93% accuracy and share the code"
   ]
  },
  {
   "cell_type": "code",
   "execution_count": 0,
   "metadata": {
    "colab": {},
    "colab_type": "code",
    "id": "YO00dXcEgOuo"
   },
   "outputs": [],
   "source": []
  }
 ],
 "metadata": {
  "accelerator": "GPU",
  "colab": {
   "collapsed_sections": [
    "RmGXSFIt6Rlu",
    "ks3h5IupjSRp"
   ],
   "include_colab_link": true,
   "name": "TransferLearning&ManyMore.ipynb",
   "provenance": [],
   "version": "0.3.2"
  },
  "kernelspec": {
   "display_name": "Python 3",
   "language": "python",
   "name": "python3"
  },
  "language_info": {
   "codemirror_mode": {
    "name": "ipython",
    "version": 3
   },
   "file_extension": ".py",
   "mimetype": "text/x-python",
   "name": "python",
   "nbconvert_exporter": "python",
   "pygments_lexer": "ipython3",
   "version": "3.6.7"
  },
  "toc": {
   "base_numbering": 1,
   "nav_menu": {},
   "number_sections": true,
   "sideBar": true,
   "skip_h1_title": false,
   "title_cell": "Table of Contents",
   "title_sidebar": "Contents",
   "toc_cell": false,
   "toc_position": {},
   "toc_section_display": true,
   "toc_window_display": false
  }
 },
 "nbformat": 4,
 "nbformat_minor": 1
}
