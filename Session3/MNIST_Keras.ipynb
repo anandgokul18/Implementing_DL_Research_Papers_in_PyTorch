{
  "nbformat": 4,
  "nbformat_minor": 0,
  "metadata": {
    "colab": {
      "name": "MNIST_Keras.ipynb",
      "version": "0.3.2",
      "provenance": [],
      "collapsed_sections": [],
      "include_colab_link": true
    },
    "kernelspec": {
      "name": "python3",
      "display_name": "Python 3"
    },
    "accelerator": "GPU"
  },
  "cells": [
    {
      "cell_type": "markdown",
      "metadata": {
        "id": "view-in-github",
        "colab_type": "text"
      },
      "source": [
        "<a href=\"https://colab.research.google.com/github/entirety2019/Meetup2019/blob/master/Session2/MNIST_Keras.ipynb\" target=\"_parent\"><img src=\"https://colab.research.google.com/assets/colab-badge.svg\" alt=\"Open In Colab\"/></a>"
      ]
    },
    {
      "metadata": {
        "id": "-5O8URKhHTgA",
        "colab_type": "code",
        "outputId": "ff4b67f5-9b84-484e-ed04-f81bdb53618e",
        "colab": {
          "base_uri": "https://localhost:8080/",
          "height": 33
        }
      },
      "cell_type": "code",
      "source": [
        "#!pip install keras\n",
        "import numpy as np\n",
        "import keras\n",
        "from keras.models import Sequential\n",
        "from keras.layers import Dense, Dropout, Activation, Flatten, Add\n",
        "from keras.layers import Conv2D, MaxPooling2D,BatchNormalization\n",
        "from keras.callbacks import ReduceLROnPlateau,ModelCheckpoint\n",
        "from keras.preprocessing import image\n",
        "from keras.utils import np_utils\n",
        "from keras.datasets import mnist"
      ],
      "execution_count": 1,
      "outputs": [
        {
          "output_type": "stream",
          "text": [
            "Using TensorFlow backend.\n"
          ],
          "name": "stderr"
        }
      ]
    },
    {
      "metadata": {
        "id": "H2QKbMAKRWUn",
        "colab_type": "code",
        "colab": {}
      },
      "cell_type": "code",
      "source": [
        "from collections import Counter\n",
        "from sklearn.metrics import confusion_matrix\n",
        "import itertools\n",
        "import seaborn as sns\n",
        "from matplotlib import pyplot as plt\n",
        "%matplotlib inline"
      ],
      "execution_count": 0,
      "outputs": []
    },
    {
      "metadata": {
        "id": "P0Asd-TWHbrF",
        "colab_type": "code",
        "colab": {}
      },
      "cell_type": "code",
      "source": [
        "(x_train, y_train), (x_test, y_test) = mnist.load_data()\n",
        "x_train = x_train.reshape(x_train.shape[0], 28, 28,1)\n",
        "x_test = x_test.reshape(x_test.shape[0], 28, 28,1)"
      ],
      "execution_count": 0,
      "outputs": []
    },
    {
      "metadata": {
        "id": "Eb7iYSoRHcLy",
        "colab_type": "code",
        "outputId": "00535725-270c-4b49-f954-51618b8426c0",
        "colab": {
          "base_uri": "https://localhost:8080/",
          "height": 67
        }
      },
      "cell_type": "code",
      "source": [
        "x_train = x_train.astype('float32')\n",
        "x_test = x_test.astype('float32')\n",
        "x_train /= 255\n",
        "x_test /= 255\n",
        "print('x_train shape:', x_train.shape)\n",
        "print(x_train.shape[0], 'train samples')\n",
        "print(x_test.shape[0], 'test samples')"
      ],
      "execution_count": 4,
      "outputs": [
        {
          "output_type": "stream",
          "text": [
            "x_train shape: (60000, 28, 28, 1)\n",
            "60000 train samples\n",
            "10000 test samples\n"
          ],
          "name": "stdout"
        }
      ]
    },
    {
      "metadata": {
        "id": "53fh63yuHveG",
        "colab_type": "code",
        "colab": {}
      },
      "cell_type": "code",
      "source": [
        "batch_size = 16\n",
        "num_classes = 10\n",
        "epoch = 10"
      ],
      "execution_count": 0,
      "outputs": []
    },
    {
      "metadata": {
        "id": "-WfL-yZ1HcOo",
        "colab_type": "code",
        "colab": {}
      },
      "cell_type": "code",
      "source": [
        "# convert class vectors to binary class matrices\n",
        "y_train = keras.utils.to_categorical(y_train, num_classes)\n",
        "y_test = keras.utils.to_categorical(y_test, num_classes)"
      ],
      "execution_count": 0,
      "outputs": []
    },
    {
      "metadata": {
        "id": "Pl8fUXieM9-2",
        "colab_type": "code",
        "outputId": "74343a97-6ba6-47a5-8bb8-899493ea5708",
        "colab": {
          "base_uri": "https://localhost:8080/",
          "height": 33
        }
      },
      "cell_type": "code",
      "source": [
        "x_train.shape,y_train.shape"
      ],
      "execution_count": 7,
      "outputs": [
        {
          "output_type": "execute_result",
          "data": {
            "text/plain": [
              "((60000, 28, 28, 1), (60000, 10))"
            ]
          },
          "metadata": {
            "tags": []
          },
          "execution_count": 7
        }
      ]
    },
    {
      "metadata": {
        "id": "XNsfLxKbHcRJ",
        "colab_type": "code",
        "outputId": "bee72c6c-23d7-4b93-a5fc-45789d06bf9f",
        "colab": {
          "base_uri": "https://localhost:8080/",
          "height": 520
        }
      },
      "cell_type": "code",
      "source": [
        "from keras.layers import Activation\n",
        "model = Sequential()\n",
        "model.add(Conv2D(32, 3, 3, activation='relu', input_shape=(28,28,1),use_bias=False))\n",
        "model.add(BatchNormalization(name='norm_1'))\n",
        "model.add(MaxPooling2D(pool_size=(2,2)))\n",
        "model.add(Conv2D(32, 3, 3, activation='relu',use_bias=False))\n",
        "model.add(BatchNormalization(name='norm_2'))\n",
        "model.add(MaxPooling2D(pool_size=(2,2)))\n",
        "model.add(Conv2D(10, 5,use_bias=False))\n",
        "model.add(Flatten())\n",
        "model.add(Activation('softmax'))\n",
        "model.summary()"
      ],
      "execution_count": 8,
      "outputs": [
        {
          "output_type": "stream",
          "text": [
            "/usr/local/lib/python3.6/dist-packages/ipykernel_launcher.py:3: UserWarning: Update your `Conv2D` call to the Keras 2 API: `Conv2D(32, (3, 3), activation=\"relu\", input_shape=(28, 28, 1..., use_bias=False)`\n",
            "  This is separate from the ipykernel package so we can avoid doing imports until\n"
          ],
          "name": "stderr"
        },
        {
          "output_type": "stream",
          "text": [
            "_________________________________________________________________\n",
            "Layer (type)                 Output Shape              Param #   \n",
            "=================================================================\n",
            "conv2d_1 (Conv2D)            (None, 26, 26, 32)        288       \n",
            "_________________________________________________________________\n",
            "norm_1 (BatchNormalization)  (None, 26, 26, 32)        128       \n",
            "_________________________________________________________________\n",
            "max_pooling2d_1 (MaxPooling2 (None, 13, 13, 32)        0         \n",
            "_________________________________________________________________\n",
            "conv2d_2 (Conv2D)            (None, 11, 11, 32)        9216      \n",
            "_________________________________________________________________\n",
            "norm_2 (BatchNormalization)  (None, 11, 11, 32)        128       \n",
            "_________________________________________________________________\n",
            "max_pooling2d_2 (MaxPooling2 (None, 5, 5, 32)          0         \n",
            "_________________________________________________________________\n",
            "conv2d_3 (Conv2D)            (None, 1, 1, 10)          8000      \n",
            "_________________________________________________________________\n",
            "flatten_1 (Flatten)          (None, 10)                0         \n",
            "_________________________________________________________________\n",
            "activation_1 (Activation)    (None, 10)                0         \n",
            "=================================================================\n",
            "Total params: 17,760\n",
            "Trainable params: 17,632\n",
            "Non-trainable params: 128\n",
            "_________________________________________________________________\n"
          ],
          "name": "stdout"
        },
        {
          "output_type": "stream",
          "text": [
            "/usr/local/lib/python3.6/dist-packages/ipykernel_launcher.py:6: UserWarning: Update your `Conv2D` call to the Keras 2 API: `Conv2D(32, (3, 3), activation=\"relu\", use_bias=False)`\n",
            "  \n"
          ],
          "name": "stderr"
        }
      ]
    },
    {
      "metadata": {
        "id": "zE1ay8S-8sPV",
        "colab_type": "code",
        "colab": {}
      },
      "cell_type": "code",
      "source": [
        "model.save_weights('model_random_weights.h5')"
      ],
      "execution_count": 0,
      "outputs": []
    },
    {
      "metadata": {
        "id": "_mPNMdcIIIEW",
        "colab_type": "code",
        "colab": {}
      },
      "cell_type": "code",
      "source": [
        "model.compile(loss='categorical_crossentropy',\n",
        "             optimizer='adam',\n",
        "             metrics=['accuracy'])\n"
      ],
      "execution_count": 0,
      "outputs": []
    },
    {
      "metadata": {
        "id": "ocfV0DRTNPA9",
        "colab_type": "code",
        "colab": {}
      },
      "cell_type": "code",
      "source": [
        "learning_rate_reduction = ReduceLROnPlateau(monitor='val_acc', \n",
        "                                            patience=3, \n",
        "                                            verbose=1, \n",
        "                                            factor=0.5, \n",
        "                                            min_lr=0.0001)\n",
        "filepath=\"weights.best.hdf5_base\"\n",
        "checkpoint_save = ModelCheckpoint(filepath, monitor='val_acc', verbose=1, save_best_only=True, mode='max')"
      ],
      "execution_count": 0,
      "outputs": []
    },
    {
      "metadata": {
        "id": "UdicGDhZTrxd",
        "colab_type": "code",
        "colab": {}
      },
      "cell_type": "code",
      "source": [
        "datagen = image.ImageDataGenerator(\n",
        "        featurewise_center=False,  # set input mean to 0 over the dataset\n",
        "        samplewise_center=False,  # set each sample mean to 0\n",
        "        featurewise_std_normalization=False,  # divide inputs by std of the dataset\n",
        "        samplewise_std_normalization=False,  # divide each input by its std\n",
        "        zca_whitening=False,  # apply ZCA whitening\n",
        "        rotation_range=30, # randomly rotate images in the range (degrees, 0 to 180)\n",
        "        zoom_range = 0, # Randomly zoom image \n",
        "        width_shift_range=0,  # randomly shift images horizontally (fraction of total width)\n",
        "        height_shift_range=0,  # randomly shift images vertically (fraction of total height)\n",
        "        horizontal_flip=False,  # randomly flip images\n",
        "        vertical_flip=False)  # randomly flip images\n",
        "datagen.fit(x_train)"
      ],
      "execution_count": 0,
      "outputs": []
    },
    {
      "metadata": {
        "id": "c9Oy3dCXUCvz",
        "colab_type": "code",
        "outputId": "f6ff5f94-b852-4eb8-e525-195ac4e57a0d",
        "colab": {
          "base_uri": "https://localhost:8080/",
          "height": 733
        }
      },
      "cell_type": "code",
      "source": [
        "model.fit_generator(datagen.flow(x_train, y_train, batch_size=32),\n",
        "                  steps_per_epoch=len(x_train) / 32, epochs=epoch,validation_data=(x_test, y_test),callbacks=[learning_rate_reduction,checkpoint_save])"
      ],
      "execution_count": 13,
      "outputs": [
        {
          "output_type": "stream",
          "text": [
            "Epoch 1/10\n",
            "1875/1875 [==============================] - 27s 14ms/step - loss: 0.1752 - acc: 0.9460 - val_loss: 0.1567 - val_acc: 0.9527\n",
            "\n",
            "Epoch 00001: val_acc improved from -inf to 0.95270, saving model to weights.best.hdf5_base\n",
            "Epoch 2/10\n",
            "1875/1875 [==============================] - 26s 14ms/step - loss: 0.0815 - acc: 0.9753 - val_loss: 0.0592 - val_acc: 0.9824\n",
            "\n",
            "Epoch 00002: val_acc improved from 0.95270 to 0.98240, saving model to weights.best.hdf5_base\n",
            "Epoch 3/10\n",
            "1875/1875 [==============================] - 26s 14ms/step - loss: 0.0690 - acc: 0.9792 - val_loss: 0.0612 - val_acc: 0.9820\n",
            "\n",
            "Epoch 00003: val_acc did not improve from 0.98240\n",
            "Epoch 4/10\n",
            "1875/1875 [==============================] - 25s 14ms/step - loss: 0.0596 - acc: 0.9817 - val_loss: 0.0411 - val_acc: 0.9870\n",
            "\n",
            "Epoch 00004: val_acc improved from 0.98240 to 0.98700, saving model to weights.best.hdf5_base\n",
            "Epoch 5/10\n",
            "1875/1875 [==============================] - 25s 14ms/step - loss: 0.0538 - acc: 0.9829 - val_loss: 0.0419 - val_acc: 0.9866\n",
            "\n",
            "Epoch 00005: val_acc did not improve from 0.98700\n",
            "Epoch 6/10\n",
            "1875/1875 [==============================] - 26s 14ms/step - loss: 0.0497 - acc: 0.9845 - val_loss: 0.0419 - val_acc: 0.9877\n",
            "\n",
            "Epoch 00006: val_acc improved from 0.98700 to 0.98770, saving model to weights.best.hdf5_base\n",
            "Epoch 7/10\n",
            "1875/1875 [==============================] - 26s 14ms/step - loss: 0.0479 - acc: 0.9858 - val_loss: 0.0422 - val_acc: 0.9864\n",
            "\n",
            "Epoch 00007: val_acc did not improve from 0.98770\n",
            "Epoch 8/10\n",
            "1875/1875 [==============================] - 26s 14ms/step - loss: 0.0430 - acc: 0.9863 - val_loss: 0.0464 - val_acc: 0.9871\n",
            "\n",
            "Epoch 00008: val_acc did not improve from 0.98770\n",
            "Epoch 9/10\n",
            "1875/1875 [==============================] - 26s 14ms/step - loss: 0.0421 - acc: 0.9868 - val_loss: 0.0408 - val_acc: 0.9875\n",
            "\n",
            "Epoch 00009: ReduceLROnPlateau reducing learning rate to 0.0005000000237487257.\n",
            "\n",
            "Epoch 00009: val_acc did not improve from 0.98770\n",
            "Epoch 10/10\n",
            "1875/1875 [==============================] - 26s 14ms/step - loss: 0.0320 - acc: 0.9903 - val_loss: 0.0346 - val_acc: 0.9891\n",
            "\n",
            "Epoch 00010: val_acc improved from 0.98770 to 0.98910, saving model to weights.best.hdf5_base\n"
          ],
          "name": "stdout"
        },
        {
          "output_type": "execute_result",
          "data": {
            "text/plain": [
              "<keras.callbacks.History at 0x7f55fa372400>"
            ]
          },
          "metadata": {
            "tags": []
          },
          "execution_count": 13
        }
      ]
    },
    {
      "metadata": {
        "id": "kOiNBdgyQ7d9",
        "colab_type": "code",
        "colab": {
          "base_uri": "https://localhost:8080/",
          "height": 33
        },
        "outputId": "f79bf4ad-0422-4790-8ea5-1a1a61477241"
      },
      "cell_type": "code",
      "source": [
        "score = model.evaluate(x_test, y_test, verbose=0)\n",
        "print(score)"
      ],
      "execution_count": 14,
      "outputs": [
        {
          "output_type": "stream",
          "text": [
            "[0.03463370991060728, 0.9891]\n"
          ],
          "name": "stdout"
        }
      ]
    },
    {
      "metadata": {
        "id": "aID9NG8D7AG2",
        "colab_type": "text"
      },
      "cell_type": "markdown",
      "source": [
        "## Confusion Matrix"
      ]
    },
    {
      "metadata": {
        "id": "vB6fcHhB6Njk",
        "colab_type": "code",
        "colab": {
          "base_uri": "https://localhost:8080/",
          "height": 200
        },
        "outputId": "84d06e2d-0a0f-48ec-957c-f8b149af60e6"
      },
      "cell_type": "code",
      "source": [
        "\n",
        "# Predict the values from the validation dataset\n",
        "Y_pred = model.predict(x_test)\n",
        "# Convert predictions classes to one hot vectors \n",
        "Y_pred_classes = np.argmax(Y_pred, axis = 1) \n",
        "# Convert validation observations to one hot vectors\n",
        "Y_true = np.argmax(y_test, axis = 1) \n",
        "# compute the confusion matrix\n",
        "confusion_mtx = confusion_matrix(Y_true, Y_pred_classes) \n",
        "print(confusion_mtx)\n",
        "print('Overall accuracy:', np.average(Y_pred_classes == Y_true))"
      ],
      "execution_count": 15,
      "outputs": [
        {
          "output_type": "stream",
          "text": [
            "[[ 973    1    0    0    1    0    3    2    0    0]\n",
            " [   0 1130    1    1    0    1    1    1    0    0]\n",
            " [   0    1 1020    1    0    0    1    9    0    0]\n",
            " [   0    0    0 1006    0    3    0    1    0    0]\n",
            " [   0    0    0    0  975    0    0    1    2    4]\n",
            " [   1    0    0    3    0  885    2    0    0    1]\n",
            " [   1    3    1    0    3    8  941    0    1    0]\n",
            " [   0    5    7    0    1    0    0 1013    1    1]\n",
            " [   2    0    7    0    1    2    0    1  956    5]\n",
            " [   0    0    0    0    6    7    1    2    1  992]]\n",
            "Overall accuracy: 0.9891\n"
          ],
          "name": "stdout"
        }
      ]
    },
    {
      "metadata": {
        "id": "BqQwW95M6qFO",
        "colab_type": "code",
        "colab": {
          "base_uri": "https://localhost:8080/",
          "height": 337
        },
        "outputId": "a394e5a9-e2db-43f3-a586-a56df63541ac"
      },
      "cell_type": "code",
      "source": [
        "# normalize the diagnal cells so that they don't overpower the rest of the cells when visualized\n",
        "row_sums = confusion_mtx.sum(axis=1, keepdims=True)\n",
        "norm_conf_mx = confusion_mtx / row_sums\n",
        "np.fill_diagonal(norm_conf_mx, 0)\n",
        "\n",
        "fig = plt.figure(figsize=(8,5))\n",
        "ax = fig.add_subplot(111)\n",
        "cax = ax.matshow(norm_conf_mx, cmap=plt.cm.bone)\n",
        "ticks = np.arange(0, 10, 1)\n",
        "ax.set_xticks(ticks)\n",
        "ax.set_yticks(ticks)\n",
        "ax.set_xticklabels(ticks)\n",
        "ax.set_yticklabels(ticks)\n",
        "fig.colorbar(cax)\n",
        "plt.ylabel('true labels', fontsize=14)\n",
        "plt.xlabel('predicted values', fontsize=14)\n",
        "plt.savefig('conf.png')\n",
        "plt.show()"
      ],
      "execution_count": 16,
      "outputs": [
        {
          "output_type": "display_data",
          "data": {
            "image/png": "[encoded data removed]",
            "text/plain": [
              "<Figure size 576x360 with 2 Axes>"
            ]
          },
          "metadata": {
            "tags": []
          }
        }
      ]
    },
    {
      "metadata": {
        "id": "k7KFIquPRMVd",
        "colab_type": "code",
        "outputId": "742d8113-3759-4b6f-de49-2bf11c122892",
        "colab": {
          "base_uri": "https://localhost:8080/",
          "height": 311
        }
      },
      "cell_type": "code",
      "source": [
        "# Look at confusion matrix \n",
        "#Note, this code is taken straight from the SKLEARN website, an nice way of viewing confusion matrix.\n",
        "def plot_confusion_matrix(cm, classes,\n",
        "                          normalize=False,\n",
        "                          title='Confusion matrix',\n",
        "                          cmap=plt.cm.Blues):\n",
        "    \"\"\"\n",
        "    This function prints and plots the confusion matrix.\n",
        "    Normalization can be applied by setting `normalize=True`.\n",
        "    \"\"\"\n",
        "    plt.imshow(cm, interpolation='nearest', cmap=cmap)\n",
        "    plt.title(title)\n",
        "    plt.colorbar()\n",
        "    tick_marks = np.arange(len(classes))\n",
        "    plt.xticks(tick_marks, classes, rotation=45)\n",
        "    plt.yticks(tick_marks, classes)\n",
        "\n",
        "    if normalize:\n",
        "        cm = cm.astype('float') / cm.sum(axis=1)[:, np.newaxis]\n",
        "\n",
        "    thresh = cm.max() / 2.\n",
        "    for i, j in itertools.product(range(cm.shape[0]), range(cm.shape[1])):\n",
        "        plt.text(j, i, cm[i, j],\n",
        "                 horizontalalignment=\"center\",\n",
        "                 color=\"white\" if cm[i, j] > thresh else \"black\")\n",
        "\n",
        "    plt.tight_layout()\n",
        "    plt.ylabel('True label')\n",
        "    plt.xlabel('Predicted label')\n",
        "\n",
        "# Predict the values from the validation dataset\n",
        "Y_pred = model.predict(x_test)\n",
        "# Convert predictions classes to one hot vectors \n",
        "Y_pred_classes = np.argmax(Y_pred, axis = 1) \n",
        "# Convert validation observations to one hot vectors\n",
        "Y_true = np.argmax(y_test, axis = 1) \n",
        "# compute the confusion matrix\n",
        "confusion_mtx = confusion_matrix(Y_true, Y_pred_classes) \n",
        "# plot the confusion matrix\n",
        "plot_confusion_matrix(confusion_mtx, classes = range(10))"
      ],
      "execution_count": 17,
      "outputs": [
        {
          "output_type": "display_data",
          "data": {
            "image/png": "[encoded data removed]",
            "text/plain": [
              "<Figure size 432x288 with 2 Axes>"
            ]
          },
          "metadata": {
            "tags": []
          }
        }
      ]
    },
    {
      "metadata": {
        "id": "eFrh04GoRQ4y",
        "colab_type": "code",
        "outputId": "945445e3-3f36-4b37-b93a-bf834b31fd06",
        "colab": {
          "base_uri": "https://localhost:8080/",
          "height": 310
        }
      },
      "cell_type": "code",
      "source": [
        "# Errors are difference between predicted labels and true labels\n",
        "errors = (Y_pred_classes - Y_true != 0)\n",
        "print(\"Number of misclassification\",sum(errors))\n",
        "Y_pred_classes_errors = Y_pred_classes[errors]\n",
        "Y_pred_errors = Y_pred[errors]\n",
        "Y_true_errors = Y_true[errors]\n",
        "X_test_errors = x_test[errors]\n",
        "\n",
        "def display_errors(errors_index,img_errors,pred_errors, obs_errors):\n",
        "    \"\"\" This function shows 6 images with their predicted and real labels\"\"\"\n",
        "    n = 0\n",
        "    nrows = 2\n",
        "    ncols = 3\n",
        "    fig, ax = plt.subplots(nrows,ncols,sharex=True,sharey=True)\n",
        "    for row in range(nrows):\n",
        "        for col in range(ncols):\n",
        "            error = errors_index[n]\n",
        "            ax[row,col].imshow((img_errors[error]).reshape((28,28)))\n",
        "            ax[row,col].set_title(\"Predicted label :{}\\nTrue label :{}\".format(pred_errors[error],obs_errors[error]))\n",
        "            n += 1\n",
        "    # Probabilities of the wrong predicted numbers\n",
        "Y_pred_errors_prob = np.max(Y_pred_errors,axis = 1)\n",
        "\n",
        "# Predicted probabilities of the true values in the error set\n",
        "true_prob_errors = np.diagonal(np.take(Y_pred_errors, Y_true_errors, axis=1))\n",
        "\n",
        "# Difference between the probability of the predicted label and the true label\n",
        "delta_pred_true_errors = Y_pred_errors_prob - true_prob_errors\n",
        "\n",
        "# Sorted list of the delta prob errors\n",
        "sorted_dela_errors = np.argsort(delta_pred_true_errors)\n",
        "\n",
        "# Top 6 errors \n",
        "most_important_errors = sorted_dela_errors[-6:]\n",
        "\n",
        "# Show the top 6 errors\n",
        "display_errors(most_important_errors, X_test_errors, Y_pred_classes_errors, Y_true_errors)"
      ],
      "execution_count": 18,
      "outputs": [
        {
          "output_type": "stream",
          "text": [
            "Number of misclassification 109\n"
          ],
          "name": "stdout"
        },
        {
          "output_type": "display_data",
          "data": {
            "image/png": "[encoded data removed]",
            "text/plain": [
              "<Figure size 432x288 with 6 Axes>"
            ]
          },
          "metadata": {
            "tags": []
          }
        }
      ]
    },
    {
      "metadata": {
        "id": "BhjyRw_gqtFE",
        "colab_type": "text"
      },
      "cell_type": "markdown",
      "source": [
        "**Experimentation with LR Find**"
      ]
    },
    {
      "metadata": {
        "id": "KGFaWfrMsNwW",
        "colab_type": "code",
        "colab": {
          "base_uri": "https://localhost:8080/",
          "height": 567
        },
        "outputId": "2b650eae-fa71-4a9d-e347-037eb1ef23ac"
      },
      "cell_type": "code",
      "source": [
        "!wget https://raw.githubusercontent.com/aman5319/BirdsClassification/master/LrFinder.py\n",
        "!wget https://raw.githubusercontent.com/aman5319/BirdsClassification/master/utils.py\n",
        "!wget https://raw.githubusercontent.com/aman5319/BirdsClassification/master/OneCyclePolicy.py"
      ],
      "execution_count": 19,
      "outputs": [
        {
          "output_type": "stream",
          "text": [
            "--2019-01-20 06:50:40--  https://raw.githubusercontent.com/aman5319/BirdsClassification/master/LrFinder.py\n",
            "Resolving raw.githubusercontent.com (raw.githubusercontent.com)... 151.101.0.133, 151.101.64.133, 151.101.128.133, ...\n",
            "Connecting to raw.githubusercontent.com (raw.githubusercontent.com)|151.101.0.133|:443... connected.\n",
            "HTTP request sent, awaiting response... 200 OK\n",
            "Length: 3525 (3.4K) [text/plain]\n",
            "Saving to: ‘LrFinder.py.3’\n",
            "\n",
            "\rLrFinder.py.3         0%[                    ]       0  --.-KB/s               \rLrFinder.py.3       100%[===================>]   3.44K  --.-KB/s    in 0s      \n",
            "\n",
            "2019-01-20 06:50:40 (56.7 MB/s) - ‘LrFinder.py.3’ saved [3525/3525]\n",
            "\n",
            "--2019-01-20 06:50:43--  https://raw.githubusercontent.com/aman5319/BirdsClassification/master/utils.py\n",
            "Resolving raw.githubusercontent.com (raw.githubusercontent.com)... 151.101.0.133, 151.101.64.133, 151.101.128.133, ...\n",
            "Connecting to raw.githubusercontent.com (raw.githubusercontent.com)|151.101.0.133|:443... connected.\n",
            "HTTP request sent, awaiting response... 200 OK\n",
            "Length: 993 [text/plain]\n",
            "Saving to: ‘utils.py.2’\n",
            "\n",
            "utils.py.2          100%[===================>]     993  --.-KB/s    in 0s      \n",
            "\n",
            "2019-01-20 06:50:44 (144 MB/s) - ‘utils.py.2’ saved [993/993]\n",
            "\n",
            "--2019-01-20 06:50:46--  https://raw.githubusercontent.com/aman5319/BirdsClassification/master/OneCyclePolicy.py\n",
            "Resolving raw.githubusercontent.com (raw.githubusercontent.com)... 151.101.0.133, 151.101.64.133, 151.101.128.133, ...\n",
            "Connecting to raw.githubusercontent.com (raw.githubusercontent.com)|151.101.0.133|:443... connected.\n",
            "HTTP request sent, awaiting response... 200 OK\n",
            "Length: 3362 (3.3K) [text/plain]\n",
            "Saving to: ‘OneCyclePolicy.py.1’\n",
            "\n",
            "OneCyclePolicy.py.1 100%[===================>]   3.28K  --.-KB/s    in 0s      \n",
            "\n",
            "2019-01-20 06:50:47 (32.1 MB/s) - ‘OneCyclePolicy.py.1’ saved [3362/3362]\n",
            "\n"
          ],
          "name": "stdout"
        }
      ]
    },
    {
      "metadata": {
        "id": "mHfDIjdL9cCI",
        "colab_type": "text"
      },
      "cell_type": "markdown",
      "source": [
        "## Reset our model weights"
      ]
    },
    {
      "metadata": {
        "id": "gboNsiC59az9",
        "colab_type": "code",
        "colab": {}
      },
      "cell_type": "code",
      "source": [
        "model.load_weights('model_random_weights.h5')"
      ],
      "execution_count": 0,
      "outputs": []
    },
    {
      "metadata": {
        "id": "BRtBdKSi8Svg",
        "colab_type": "code",
        "colab": {}
      },
      "cell_type": "code",
      "source": [
        "model.compile(loss='categorical_crossentropy',\n",
        "             optimizer='adam',\n",
        "             metrics=['accuracy'])"
      ],
      "execution_count": 0,
      "outputs": []
    },
    {
      "metadata": {
        "id": "wjxDsjXJ7Sej",
        "colab_type": "code",
        "colab": {
          "base_uri": "https://localhost:8080/",
          "height": 302
        },
        "outputId": "9ebfec87-1eae-4523-a6ca-c9489a8732c5"
      },
      "cell_type": "code",
      "source": [
        "from utils import stepper , annealing_linear,annealing_cos\n",
        "from LrFinder import LRFinder\n",
        "\n",
        "lrfind = LRFinder(len(x_train)//16 )\n",
        "history = model.fit(x_train,y_train ,epochs=2,batch_size=16,shuffle=True ,callbacks=[lrfind] )"
      ],
      "execution_count": 22,
      "outputs": [
        {
          "output_type": "stream",
          "text": [
            "Epoch 1/2\n",
            "60000/60000 [==============================] - 33s 558us/step - loss: 4.1561 - acc: 0.4857\n"
          ],
          "name": "stdout"
        },
        {
          "output_type": "display_data",
          "data": {
            "image/png": "[encoded data removed]",
            "text/plain": [
              "<Figure size 432x288 with 1 Axes>"
            ]
          },
          "metadata": {
            "tags": []
          }
        }
      ]
    },
    {
      "metadata": {
        "id": "worLfo3c94i0",
        "colab_type": "text"
      },
      "cell_type": "markdown",
      "source": [
        "W will set up our learning rate to 10e-4"
      ]
    },
    {
      "metadata": {
        "id": "XluaeemU9zW5",
        "colab_type": "code",
        "colab": {
          "base_uri": "https://localhost:8080/",
          "height": 167
        },
        "outputId": "211e6675-9e55-4ef1-c643-870b207c0fb5"
      },
      "cell_type": "code",
      "source": [
        "abc\n",
        "from OneCyclePolicy import OneCycleScheduler\n",
        "\n",
        "fit_one_cycle = OneCycleScheduler(num_iteration = len(x_train)//16  , num_epochs =4 , max_lr = 10e-3)\n",
        "his = model.fit(x_train,y_train ,epochs=4,batch_size=batch_size,shuffle=True ,callbacks=[fit_one_cycle] ,validation_data=(x_test,y_test)  )"
      ],
      "execution_count": 23,
      "outputs": [
        {
          "output_type": "stream",
          "text": [
            "Train on 60000 samples, validate on 10000 samples\n",
            "Epoch 1/4\n",
            "60000/60000 [==============================] - 37s 622us/step - loss: 0.1532 - acc: 0.9569 - val_loss: 0.0598 - val_acc: 0.9793\n",
            "Epoch 2/4\n",
            "60000/60000 [==============================] - 37s 618us/step - loss: 0.0759 - acc: 0.9767 - val_loss: 0.0600 - val_acc: 0.9819\n",
            "Epoch 3/4\n",
            "60000/60000 [==============================] - 37s 623us/step - loss: 0.0456 - acc: 0.9862 - val_loss: 0.0398 - val_acc: 0.9870\n",
            "Epoch 4/4\n",
            "60000/60000 [==============================] - 37s 623us/step - loss: 0.0190 - acc: 0.9944 - val_loss: 0.0276 - val_acc: 0.9904\n"
          ],
          "name": "stdout"
        }
      ]
    },
    {
      "metadata": {
        "id": "IPvWeKZEEHWt",
        "colab_type": "code",
        "colab": {
          "base_uri": "https://localhost:8080/",
          "height": 33
        },
        "outputId": "f9ae2704-30ad-4cda-b68c-f261a3a9ccc3"
      },
      "cell_type": "code",
      "source": [
        "score = model.evaluate(x_test, y_test, verbose=0)\n",
        "print(score)"
      ],
      "execution_count": 24,
      "outputs": [
        {
          "output_type": "stream",
          "text": [
            "[0.027569407568524183, 0.9904]\n"
          ],
          "name": "stdout"
        }
      ]
    }
  ]
}