{
 "cells": [
  {
   "cell_type": "markdown",
   "metadata": {},
   "source": [
    "Keras Implementation of MLP Network on MNIST Dataset \n",
    "\n",
    "[Kaggle](https://www.kaggle.com/u6yuvi/mnist-in-keras?scriptVersionId=10035046)"
   ]
  },
  {
   "cell_type": "markdown",
   "metadata": {
    "_uuid": "2191f3a20b15fe5e435abf59663757d75c3ea66d"
   },
   "source": [
    "# Imports"
   ]
  },
  {
   "cell_type": "code",
   "execution_count": 57,
   "metadata": {
    "_cell_guid": "79c7e3d0-c299-4dcb-8224-4455121ee9b0",
    "_uuid": "d629ff2d2480ee46fbb7e2d37f6b5fab8052498a"
   },
   "outputs": [
    {
     "name": "stdout",
     "output_type": "stream",
     "text": [
      "['train.csv', 'sample_submission.csv', 'test.csv']\n"
     ]
    }
   ],
   "source": [
    "import os\n",
    "from pathlib import Path\n",
    "import keras \n",
    "from keras.models import Sequential\n",
    "from keras.layers import Dense, Dropout\n",
    "from keras.optimizers import Adam\n",
    "import numpy as np\n",
    "import pandas as pd\n",
    "from sklearn.model_selection import train_test_split\n",
    "PATH=Path(\"../input/\")\n",
    "print(os.listdir(\"../input/\"))"
   ]
  },
  {
   "cell_type": "markdown",
   "metadata": {
    "_uuid": "f745f366d3e678fac2794915c7641a08fcb64fbf"
   },
   "source": [
    "# Load Data"
   ]
  },
  {
   "cell_type": "code",
   "execution_count": 58,
   "metadata": {
    "_uuid": "ed4a792e2d10caf2f2dfc0d6b80b3df26bbd3ec2"
   },
   "outputs": [
    {
     "data": {
      "text/plain": [
       "((42000, 785), (28000, 784))"
      ]
     },
     "execution_count": 58,
     "metadata": {},
     "output_type": "execute_result"
    }
   ],
   "source": [
    "train=pd.read_csv(PATH/'train.csv')\n",
    "test=pd.read_csv(PATH/'test.csv')\n",
    "train.shape,test.shape"
   ]
  },
  {
   "cell_type": "markdown",
   "metadata": {
    "_uuid": "1ada90b663e8ce6c94e08d9fc2bce59a4ab84acd"
   },
   "source": [
    "# Extract Input and Target Variable"
   ]
  },
  {
   "cell_type": "code",
   "execution_count": 59,
   "metadata": {
    "_uuid": "59f29e6513f9a66bb0a403cfb13a6b82802cd7ca"
   },
   "outputs": [
    {
     "data": {
      "text/plain": [
       "((42000, 784), (42000,))"
      ]
     },
     "execution_count": 59,
     "metadata": {},
     "output_type": "execute_result"
    }
   ],
   "source": [
    "x=train.drop(\"label\",axis=1)\n",
    "y=np.array(train['label'])\n",
    "x.shape,y.shape"
   ]
  },
  {
   "cell_type": "markdown",
   "metadata": {
    "_uuid": "23716c102081d5495e81bb129a050432fd0ba5af"
   },
   "source": [
    "# Train Test Split"
   ]
  },
  {
   "cell_type": "code",
   "execution_count": 60,
   "metadata": {
    "_uuid": "aa12d0a5daab52015e6a0f73635d6865bcd0ad99"
   },
   "outputs": [],
   "source": [
    "from sklearn.model_selection import train_test_split"
   ]
  },
  {
   "cell_type": "code",
   "execution_count": 61,
   "metadata": {
    "_uuid": "9a9c95e25064d679d74462151eead379c3b6aab4"
   },
   "outputs": [
    {
     "name": "stdout",
     "output_type": "stream",
     "text": [
      "(33600, 784) (8400, 784)\n",
      "33600 train samples\n",
      "8400 valid samples\n"
     ]
    }
   ],
   "source": [
    "x_train, x_valid, y_train, y_valid = train_test_split(x,y,test_size=0.2,random_state=123)\n",
    "print(x_train.shape,x_valid.shape)\n",
    "x_train = x_train.values.reshape(33600, 784)\n",
    "x_valid = x_valid.values.reshape(8400, 784)\n",
    "x_train = x_train.astype('float32')\n",
    "x_valid = x_valid.astype('float32')\n",
    "x_train /= 255\n",
    "x_valid /= 255\n",
    "print(x_train.shape[0], 'train samples')\n",
    "print(x_valid.shape[0], 'valid samples')"
   ]
  },
  {
   "cell_type": "markdown",
   "metadata": {
    "_uuid": "bb699a1f6384e7c49577b7ae5fc9afdf0e41ea75"
   },
   "source": [
    "# Convert class vectors to binary class matrices"
   ]
  },
  {
   "cell_type": "code",
   "execution_count": 62,
   "metadata": {
    "_uuid": "b02ce7f9de9549d6822bf6c12915bedb18c70a96"
   },
   "outputs": [
    {
     "data": {
      "text/plain": [
       "((33600,), array([2, 9]))"
      ]
     },
     "execution_count": 62,
     "metadata": {},
     "output_type": "execute_result"
    }
   ],
   "source": [
    "y_train.shape,y_train[:2]"
   ]
  },
  {
   "cell_type": "code",
   "execution_count": 63,
   "metadata": {
    "_uuid": "4881edcdc197912f7146446c01731bc1eb8d5fb2"
   },
   "outputs": [
    {
     "name": "stdout",
     "output_type": "stream",
     "text": [
      "(33600, 10) (8400, 10)\n"
     ]
    }
   ],
   "source": [
    "num_classes=10\n",
    "y_train = keras.utils.to_categorical(y_train, num_classes)\n",
    "y_valid = keras.utils.to_categorical(y_valid, num_classes)\n",
    "print(y_train.shape,y_valid.shape)"
   ]
  },
  {
   "cell_type": "markdown",
   "metadata": {
    "_uuid": "fe11b89cbae74e057e44952a839c76093630cf27"
   },
   "source": [
    "# Model Architecture"
   ]
  },
  {
   "cell_type": "code",
   "execution_count": 64,
   "metadata": {
    "_uuid": "4ac21e7dcbd54df27469268f6dea722c618674e9"
   },
   "outputs": [
    {
     "name": "stdout",
     "output_type": "stream",
     "text": [
      "_________________________________________________________________\n",
      "Layer (type)                 Output Shape              Param #   \n",
      "=================================================================\n",
      "dense_5 (Dense)              (None, 256)               200960    \n",
      "_________________________________________________________________\n",
      "dropout_4 (Dropout)          (None, 256)               0         \n",
      "_________________________________________________________________\n",
      "dense_6 (Dense)              (None, 128)               32896     \n",
      "_________________________________________________________________\n",
      "dropout_5 (Dropout)          (None, 128)               0         \n",
      "_________________________________________________________________\n",
      "dense_7 (Dense)              (None, 64)                8256      \n",
      "_________________________________________________________________\n",
      "dropout_6 (Dropout)          (None, 64)                0         \n",
      "_________________________________________________________________\n",
      "dense_8 (Dense)              (None, 10)                650       \n",
      "=================================================================\n",
      "Total params: 242,762\n",
      "Trainable params: 242,762\n",
      "Non-trainable params: 0\n",
      "_________________________________________________________________\n"
     ]
    }
   ],
   "source": [
    "model = Sequential()\n",
    "model.add(Dense(256, activation='relu', input_shape=(784,)))\n",
    "model.add(Dropout(0.2))\n",
    "model.add(Dense(128, activation='relu'))\n",
    "model.add(Dropout(0.2))\n",
    "model.add(Dense(64, activation='relu'))\n",
    "model.add(Dropout(0.2))\n",
    "model.add(Dense(num_classes, activation='softmax'))\n",
    "model.summary()"
   ]
  },
  {
   "cell_type": "code",
   "execution_count": 65,
   "metadata": {
    "_uuid": "931f9b5107cf37e41704d148ff368a0f41d09716"
   },
   "outputs": [],
   "source": [
    "model.compile(loss='categorical_crossentropy',\n",
    "              optimizer=Adam(lr=0.01),\n",
    "              metrics=['accuracy'])"
   ]
  },
  {
   "cell_type": "code",
   "execution_count": 66,
   "metadata": {
    "_uuid": "85cfd2f06419784198f96504697d4dd13eb64761"
   },
   "outputs": [
    {
     "name": "stdout",
     "output_type": "stream",
     "text": [
      "Train on 33600 samples, validate on 8400 samples\n",
      "Epoch 1/5\n",
      "33600/33600 [==============================] - 4s 130us/step - loss: 0.4510 - acc: 0.8685 - val_loss: 0.2539 - val_acc: 0.9343\n",
      "Epoch 2/5\n",
      "33600/33600 [==============================] - 4s 116us/step - loss: 0.3325 - acc: 0.9151 - val_loss: 0.2516 - val_acc: 0.9357\n",
      "Epoch 3/5\n",
      "33600/33600 [==============================] - 4s 116us/step - loss: 0.2982 - acc: 0.9242 - val_loss: 0.1931 - val_acc: 0.9508\n",
      "Epoch 4/5\n",
      "33600/33600 [==============================] - 4s 115us/step - loss: 0.2895 - acc: 0.9277 - val_loss: 0.2211 - val_acc: 0.9506\n",
      "Epoch 5/5\n",
      "33600/33600 [==============================] - 4s 115us/step - loss: 0.2965 - acc: 0.9298 - val_loss: 0.2089 - val_acc: 0.9539\n"
     ]
    }
   ],
   "source": [
    "epochs=5\n",
    "batch_size=64\n",
    "history = model.fit(x_train, y_train,\n",
    "                    batch_size=batch_size,\n",
    "                    epochs=epochs,\n",
    "                    verbose=1,\n",
    "                    validation_data=(x_valid, y_valid))"
   ]
  },
  {
   "cell_type": "code",
   "execution_count": 67,
   "metadata": {
    "_uuid": "65a66192593cfa3870fef006eccdc4f2d6af032d"
   },
   "outputs": [
    {
     "name": "stdout",
     "output_type": "stream",
     "text": [
      "Valid loss: 0.20888403075259357\n",
      "Valid accuracy: 0.9539285714285715\n"
     ]
    }
   ],
   "source": [
    "score = model.evaluate(x_valid, y_valid, verbose=0)\n",
    "print('Valid loss:', score[0])\n",
    "print('Valid accuracy:', score[1])"
   ]
  },
  {
   "cell_type": "code",
   "execution_count": 68,
   "metadata": {
    "_uuid": "9e3b915804ab59a1a03e743bef31ee86e9aaa05e"
   },
   "outputs": [],
   "source": [
    "#from pathlib import Path\n",
    "#import simplejson\n",
    "#serialize model to JSON\n",
    "#filepath_json=Path('../input/')\n",
    "#model_json = model.to_json()\n",
    "#with open(filepath_json/\"mnist_keras.json\", \"w\") as json_file:\n",
    " #   json_file.write(simplejson.dumps(simplejson.loads(model_json), indent=4))"
   ]
  },
  {
   "cell_type": "code",
   "execution_count": 69,
   "metadata": {
    "_uuid": "7b63130cbec4567f96bf4e06e784434e16ca7fd4"
   },
   "outputs": [],
   "source": [
    "model.save_weights(\"mnist_keras.h5\")"
   ]
  },
  {
   "cell_type": "markdown",
   "metadata": {
    "_uuid": "59e8ab130fb69bbd3e20033ad21572a871bc021b"
   },
   "source": [
    "# Load Test Data"
   ]
  },
  {
   "cell_type": "code",
   "execution_count": 70,
   "metadata": {
    "_uuid": "221dd8509e5b9616ee05d4aca03fe03ccf87b43b"
   },
   "outputs": [
    {
     "name": "stdout",
     "output_type": "stream",
     "text": [
      "(28000, 784)\n"
     ]
    }
   ],
   "source": [
    "test = pd.read_csv(\"../input/test.csv\")\n",
    "print(test.shape)"
   ]
  },
  {
   "cell_type": "markdown",
   "metadata": {
    "_uuid": "3ebb95731b3d4ae940c71c47c3b18bb0fdd64888"
   },
   "source": [
    "# Preprocessing"
   ]
  },
  {
   "cell_type": "code",
   "execution_count": 71,
   "metadata": {
    "_uuid": "7a3793656fc34f9d7cfa59d34d68e94b607aa199"
   },
   "outputs": [
    {
     "name": "stdout",
     "output_type": "stream",
     "text": [
      "28000 test samples\n"
     ]
    }
   ],
   "source": [
    "x_test=test.loc[:,test.columns != \"label\"]\n",
    "x_test = x_test.astype('float32')\n",
    "x_test /= 255\n",
    "print(x_test.shape[0], 'test samples')"
   ]
  },
  {
   "cell_type": "code",
   "execution_count": 72,
   "metadata": {
    "_uuid": "a4ae0792b62d1a4913c9f3cebcf021954719e245"
   },
   "outputs": [
    {
     "name": "stdout",
     "output_type": "stream",
     "text": [
      "(28000, 10)\n"
     ]
    }
   ],
   "source": [
    "score = model.predict(x_test, verbose=0)\n",
    "print(score.shape)"
   ]
  },
  {
   "cell_type": "markdown",
   "metadata": {
    "_uuid": "5380fa620eb61cb28b69939e9581b4759d4dd8c9"
   },
   "source": [
    "# Take a look"
   ]
  },
  {
   "cell_type": "code",
   "execution_count": 73,
   "metadata": {
    "_uuid": "4ddf78a9bcc079172ddbd0993c044ea4f62bc8a2"
   },
   "outputs": [
    {
     "data": {
      "text/plain": [
       "(array([2, 0, 9, 9]), (28000,))"
      ]
     },
     "execution_count": 73,
     "metadata": {},
     "output_type": "execute_result"
    }
   ],
   "source": [
    "np.argmax(score,axis=1)[:4],np.argmax(score,axis=1).shape"
   ]
  },
  {
   "cell_type": "markdown",
   "metadata": {
    "_uuid": "9dcbf7526fe080b21393efd5841557deebecc1f4"
   },
   "source": [
    "# Generate Predictions"
   ]
  },
  {
   "cell_type": "code",
   "execution_count": 74,
   "metadata": {
    "_uuid": "e1e3f4303e10e2807685210e8d307439d86ee17a"
   },
   "outputs": [
    {
     "name": "stdout",
     "output_type": "stream",
     "text": [
      "Prediction shape (28000,)\n"
     ]
    }
   ],
   "source": [
    "predictions=np.argmax(score,axis=1)\n",
    "print(\"Prediction shape\",predictions.shape)"
   ]
  },
  {
   "cell_type": "markdown",
   "metadata": {
    "_uuid": "4bd9187ea3b3586791699d710935062fc173e49d"
   },
   "source": [
    "# Create Submission File"
   ]
  },
  {
   "cell_type": "code",
   "execution_count": 75,
   "metadata": {
    "_uuid": "0ccee80c2d9fb3277318035d09d2db41066eb7c5"
   },
   "outputs": [],
   "source": [
    "submissions=pd.DataFrame({\"ImageId\": list(range(1,len(predictions)+1)),\n",
    "                         \"Label\": predictions})\n",
    "submissions.to_csv(\"my_submissions_keras.csv\", index=False, header=True)"
   ]
  }
 ],
 "metadata": {
  "kernelspec": {
   "display_name": "Python 3",
   "language": "python",
   "name": "python3"
  },
  "language_info": {
   "codemirror_mode": {
    "name": "ipython",
    "version": 3
   },
   "file_extension": ".py",
   "mimetype": "text/x-python",
   "name": "python",
   "nbconvert_exporter": "python",
   "pygments_lexer": "ipython3",
   "version": "3.6.8"
  }
 },
 "nbformat": 4,
 "nbformat_minor": 1
}
