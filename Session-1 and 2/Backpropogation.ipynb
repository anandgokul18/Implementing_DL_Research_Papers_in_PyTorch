{
 "cells": [
  {
   "cell_type": "markdown",
   "metadata": {},
   "source": [
    "# Imports"
   ]
  },
  {
   "cell_type": "code",
   "execution_count": 5,
   "metadata": {
    "ExecuteTime": {
     "end_time": "2019-01-20T10:09:37.217108Z",
     "start_time": "2019-01-20T10:09:37.210399Z"
    }
   },
   "outputs": [],
   "source": [
    "from IPython.display import HTML ,YouTubeVideo"
   ]
  },
  {
   "cell_type": "markdown",
   "metadata": {
    "ExecuteTime": {
     "end_time": "2019-01-20T09:13:11.167144Z",
     "start_time": "2019-01-20T09:13:11.160224Z"
    }
   },
   "source": [
    "Let us take a step back and recall what all we know untill now in Deep Learning\n",
    "\n",
    "We know:\n",
    "    1. What a Neural Network Architecture is\n",
    "    2. When input is feeded into the network we get an output(score) from the output layer of the network\n",
    "    3. About a loss functions, which tells us how bad our output is as compared to the actual.\n",
    "    4. About Gradient descent,how it helps us to mimize our loss function to improve model outputs.\n",
    " \n",
    "The thing,which we need to ask and understand next is how to **nudge** the hidden layer weights and biases in such a manner that it brings us close to the actuals.\n",
    "![](https://memegenerator.net/img/instances/67167724/backpropagation-my-friend.jpg)\n",
    "\n"
   ]
  },
  {
   "cell_type": "markdown",
   "metadata": {},
   "source": [
    "# BackPropogation\n",
    "\n",
    "Backpropagation is a method used in artificial neural networks commonly used by the gradient descent optimization algorithm to **adjust** the weight of neurons by calculating the gradient of the loss function.\n",
    "\n",
    "![](https://image.slidesharecdn.com/2012-1158-160208231021/95/backpropagation-in-neural-networks-24-638.jpg?cb=1454973113)"
   ]
  },
  {
   "cell_type": "markdown",
   "metadata": {},
   "source": [
    "# Backpropogation Intuition\n",
    "## Video 1\n"
   ]
  },
  {
   "cell_type": "code",
   "execution_count": 14,
   "metadata": {
    "ExecuteTime": {
     "end_time": "2019-01-20T10:15:46.961969Z",
     "start_time": "2019-01-20T10:15:46.693241Z"
    }
   },
   "outputs": [
    {
     "data": {
      "text/html": [
       "\n",
       "        <iframe\n",
       "            width=\"800\"\n",
       "            height=\"400\"\n",
       "            src=\"https://www.youtube.com/embed/https://www.youtube.com/watch?v=tIeHLnjs5U8&list=PLZHQObOWTQDNU6R1_67000Dx_ZCJB-3pi&index=4\"\n",
       "            frameborder=\"0\"\n",
       "            allowfullscreen\n",
       "        ></iframe>\n",
       "        "
      ],
      "text/plain": [
       "<IPython.lib.display.YouTubeVideo at 0x1c6d05d9c18>"
      ]
     },
     "execution_count": 14,
     "metadata": {},
     "output_type": "execute_result"
    }
   ],
   "source": [
    "\n",
    "YouTubeVideo(\"https://www.youtube.com/watch?v=tIeHLnjs5U8&list=PLZHQObOWTQDNU6R1_67000Dx_ZCJB-3pi&index=4\",width=800,height=400)"
   ]
  },
  {
   "cell_type": "markdown",
   "metadata": {},
   "source": [
    "## Video 2"
   ]
  },
  {
   "cell_type": "code",
   "execution_count": 13,
   "metadata": {
    "ExecuteTime": {
     "end_time": "2019-01-20T10:12:34.246162Z",
     "start_time": "2019-01-20T10:12:33.979199Z"
    }
   },
   "outputs": [
    {
     "data": {
      "text/html": [
       "\n",
       "        <iframe\n",
       "            width=\"800\"\n",
       "            height=\"400\"\n",
       "            src=\"https://www.youtube.com/embed/https://www.youtube.com/watch?v=Ilg3gGewQ5U&list=PLZHQObOWTQDNU6R1_67000Dx_ZCJB-3pi&index=3\"\n",
       "            frameborder=\"0\"\n",
       "            allowfullscreen\n",
       "        ></iframe>\n",
       "        "
      ],
      "text/plain": [
       "<IPython.lib.display.YouTubeVideo at 0x1c6d05e9390>"
      ]
     },
     "execution_count": 13,
     "metadata": {},
     "output_type": "execute_result"
    }
   ],
   "source": [
    "\n",
    "YouTubeVideo(\"https://www.youtube.com/watch?v=Ilg3gGewQ5U&list=PLZHQObOWTQDNU6R1_67000Dx_ZCJB-3pi&index=3\",width=800,height=400)"
   ]
  },
  {
   "cell_type": "markdown",
   "metadata": {},
   "source": [
    "# Example "
   ]
  },
  {
   "cell_type": "markdown",
   "metadata": {
    "ExecuteTime": {
     "end_time": "2019-01-20T09:43:12.401100Z",
     "start_time": "2019-01-20T09:43:12.395329Z"
    }
   },
   "source": [
    "## Step 1 \n",
    "Writing down the functions and their derivative form \n",
    "![](images/backprop1.PNG)\n",
    "\n",
    "![](images/backprop2.PNG)\n",
    "\n",
    "![](images/backprop3.PNG)"
   ]
  },
  {
   "cell_type": "markdown",
   "metadata": {
    "ExecuteTime": {
     "end_time": "2019-01-20T09:36:34.885526Z",
     "start_time": "2019-01-20T09:36:34.852286Z"
    }
   },
   "source": [
    "## Step 2 \n",
    "Calculating the derivative for each function\n",
    "![](images/backprop3.1.PNG)\n",
    "![](images/backprop4.PNG)\n",
    "![](images/backprop5.PNG)\n",
    "![](images/backprop6.PNG)\n",
    "![](images/backprop7.PNG)\n",
    "![](images/backprop8.PNG)\n",
    "![](images/backprop9.PNG)\n",
    "![](images/backprop10.PNG)\n",
    "![](images/backprop11.PNG)\n"
   ]
  },
  {
   "cell_type": "markdown",
   "metadata": {},
   "source": [
    "# Try on your own\n",
    "\n",
    "**Problem 1**\n",
    "![](images/backprop_ex2.PNG)\n",
    "<br>\n",
    "<br>\n",
    "<br>\n",
    "**Problem 2**\n",
    "![](images/backprop_ex3.PNG)"
   ]
  },
  {
   "cell_type": "markdown",
   "metadata": {},
   "source": [
    "# Try it on Excel\n",
    "\n",
    "Try playing with [Backpropogation.xlsx](https://github.com/entirety2019/Meetup2019/blob/master/Session1/Backpropogation.xlsx) sheet where we have implemented Backpropogation for a smaller network"
   ]
  },
  {
   "cell_type": "markdown",
   "metadata": {},
   "source": [
    "# References\n",
    "\n",
    "[Standford-Backpropogation video](https://www.youtube.com/watch?v=d14TUNcbn1k&index=4&list=PL3FW7Lu3i5JvHM8ljYj-zLfQRF3EO8sYv)\n",
    "<br>\n",
    "[Standford-Backpropogation slides](http://cs231n.stanford.edu/slides/2017/cs231n_2017_lecture4.pdf)\n",
    "<br>\n",
    "[3Blue1Brown-Backpropogation video-1](https://www.youtube.com/watch?v=Ilg3gGewQ5U&list=PLZHQObOWTQDNU6R1_67000Dx_ZCJB-3pi&index=3)\n",
    "<br>\n",
    "[3Blue1Brown-Backpropogation video-2](https://www.youtube.com/watch?v=tIeHLnjs5U8&list=PLZHQObOWTQDNU6R1_67000Dx_ZCJB-3pi&index=4)\n",
    "<br>\n",
    "[Backpropogation on Excel,R and Python](https://www.analyticsvidhya.com/blog/2017/05/neural-network-from-scratch-in-python-and-r/)\n",
    "<br>\n",
    "[MNIST](http://scs.ryerson.ca/~aharley/vis/conv/)"
   ]
  }
 ],
 "metadata": {
  "kernelspec": {
   "display_name": "Python 3",
   "language": "python",
   "name": "python3"
  },
  "language_info": {
   "codemirror_mode": {
    "name": "ipython",
    "version": 3
   },
   "file_extension": ".py",
   "mimetype": "text/x-python",
   "name": "python",
   "nbconvert_exporter": "python",
   "pygments_lexer": "ipython3",
   "version": "3.6.5"
  },
  "toc": {
   "base_numbering": 1,
   "nav_menu": {},
   "number_sections": true,
   "sideBar": true,
   "skip_h1_title": false,
   "title_cell": "Table of Contents",
   "title_sidebar": "Contents",
   "toc_cell": false,
   "toc_position": {},
   "toc_section_display": true,
   "toc_window_display": false
  }
 },
 "nbformat": 4,
 "nbformat_minor": 2
}
